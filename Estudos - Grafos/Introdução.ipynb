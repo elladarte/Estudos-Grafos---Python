{
 "cells": [
  {
   "cell_type": "markdown",
   "metadata": {},
   "source": [
    "## Estudos - Grafos"
   ]
  },
  {
   "cell_type": "markdown",
   "metadata": {},
   "source": [
    "Grafos são estrutura matematicas que permitem codificar relacionamentos entre objetos. É importante ressaltar que um grafo é diferente de um grafico. Um grafo não guarda informação, ele guarda a relação entre as informações e representa elas. "
   ]
  },
  {
   "cell_type": "markdown",
   "metadata": {},
   "source": [
    "Importando Bibliotecas"
   ]
  },
  {
   "cell_type": "code",
   "execution_count": 13,
   "metadata": {},
   "outputs": [],
   "source": [
    "import igraph\n",
    "from igraph import *\n",
    "import matplotlib.pyplot as plt"
   ]
  },
  {
   "cell_type": "markdown",
   "metadata": {},
   "source": [
    "Verificando a versão"
   ]
  },
  {
   "cell_type": "code",
   "execution_count": 2,
   "metadata": {},
   "outputs": [
    {
     "name": "stdout",
     "output_type": "stream",
     "text": [
      "0.8.0\n"
     ]
    }
   ],
   "source": [
    "print(igraph.__version__)"
   ]
  },
  {
   "cell_type": "markdown",
   "metadata": {},
   "source": [
    "Criando um grafo"
   ]
  },
  {
   "cell_type": "code",
   "execution_count": 3,
   "metadata": {},
   "outputs": [],
   "source": [
    "g = Graph()\n",
    "g.add_vertices(4)\n",
    "g.add_edges([(1,2),(2,3),(0,3)])"
   ]
  },
  {
   "cell_type": "code",
   "execution_count": 4,
   "metadata": {},
   "outputs": [
    {
     "name": "stdout",
     "output_type": "stream",
     "text": [
      "IGRAPH U--- 4 3 --\n",
      "+ edges:\n",
      "1--2 2--3 0--3\n"
     ]
    }
   ],
   "source": [
    "print(g)"
   ]
  },
  {
   "cell_type": "code",
   "execution_count": 16,
   "metadata": {},
   "outputs": [
    {
     "name": "stdout",
     "output_type": "stream",
     "text": [
      "Help on function plot in module igraph.drawing:\n",
      "\n",
      "plot(obj, target=None, bbox=(0, 0, 600, 600), *args, **kwds)\n",
      "    Plots the given object to the given target.\n",
      "    \n",
      "    Positional and keyword arguments not explicitly mentioned here will be\n",
      "    passed down to the C{__plot__} method of the object being plotted.\n",
      "    Since you are most likely interested in the keyword arguments available\n",
      "    for graph plots, see L{Graph.__plot__} as well.\n",
      "    \n",
      "    @param obj: the object to be plotted\n",
      "    @param target: the target where the object should be plotted. It can be one\n",
      "      of the following types:\n",
      "    \n",
      "        - C{None} -- an appropriate surface will be created and the object will\n",
      "          be plotted there.\n",
      "    \n",
      "        - C{cairo.Surface} -- the given Cairo surface will be used. This can\n",
      "          refer to a PNG image, an arbitrary window, an SVG file, anything that\n",
      "          Cairo can handle.\n",
      "    \n",
      "        - C{string} -- a file with the given name will be created and an\n",
      "          appropriate Cairo surface will be attached to it. The supported image\n",
      "          formats are: PNG, PDF, SVG and PostScript.\n",
      "    \n",
      "    @param bbox: the bounding box of the plot. It must be a tuple with either\n",
      "      two or four integers, or a L{BoundingBox} object. If this is a tuple\n",
      "      with two integers, it is interpreted as the width and height of the plot\n",
      "      (in pixels for PNG images and on-screen plots, or in points for PDF,\n",
      "      SVG and PostScript plots, where 72 pt = 1 inch = 2.54 cm). If this is\n",
      "      a tuple with four integers, the first two denotes the X and Y coordinates\n",
      "      of a corner and the latter two denoting the X and Y coordinates of the\n",
      "      opposite corner.\n",
      "    \n",
      "    @keyword opacity: the opacity of the object being plotted. It can be\n",
      "      used to overlap several plots of the same graph if you use the same\n",
      "      layout for them -- for instance, you might plot a graph with opacity\n",
      "      0.5 and then plot its spanning tree over it with opacity 0.1. To\n",
      "      achieve this, you'll need to modify the L{Plot} object returned with\n",
      "      L{Plot.add}.\n",
      "    \n",
      "    @keyword palette: the palette primarily used on the plot if the\n",
      "      added objects do not specify a private palette. Must be either\n",
      "      an L{igraph.drawing.colors.Palette} object or a string referring\n",
      "      to a valid key of C{igraph.drawing.colors.palettes} (see module\n",
      "      L{igraph.drawing.colors}) or C{None}. In the latter case, the default\n",
      "      palette given by the configuration key C{plotting.palette} is used.\n",
      "    \n",
      "    @keyword margin: the top, right, bottom, left margins as a 4-tuple.\n",
      "      If it has less than 4 elements or is a single float, the elements\n",
      "      will be re-used until the length is at least 4. The default margin\n",
      "      is 20 on each side.\n",
      "    \n",
      "    @keyword inline: whether to try and show the plot object inline in the\n",
      "      current IPython notebook. Passing ``None`` here or omitting this keyword\n",
      "      argument will look up the preferred behaviour from the\n",
      "      C{shell.ipython.inlining.Plot} configuration key.  Note that this keyword\n",
      "      argument has an effect only if igraph is run inside IPython and C{target}\n",
      "      is C{None}.\n",
      "    \n",
      "    @return: an appropriate L{Plot} object.\n",
      "    \n",
      "    @see: Graph.__plot__\n",
      "\n"
     ]
    }
   ],
   "source": [
    "help(plot)"
   ]
  },
  {
   "cell_type": "code",
   "execution_count": 22,
   "metadata": {},
   "outputs": [
    {
     "ename": "TypeError",
     "evalue": "plotting not available",
     "output_type": "error",
     "traceback": [
      "\u001b[1;31m---------------------------------------------------------------------------\u001b[0m",
      "\u001b[1;31mTypeError\u001b[0m                                 Traceback (most recent call last)",
      "\u001b[1;32m<ipython-input-22-7b84cd217910>\u001b[0m in \u001b[0;36m<module>\u001b[1;34m()\u001b[0m\n\u001b[1;32m----> 1\u001b[1;33m \u001b[0mplot\u001b[0m\u001b[1;33m(\u001b[0m\u001b[0mg\u001b[0m\u001b[1;33m)\u001b[0m\u001b[1;33m\u001b[0m\u001b[0m\n\u001b[0m",
      "\u001b[1;32m~\\Anaconda3\\lib\\site-packages\\igraph\\drawing\\__init__.py\u001b[0m in \u001b[0;36mplot\u001b[1;34m(obj, target, bbox, *args, **kwds)\u001b[0m\n\u001b[0;32m    453\u001b[0m         \u001b[0mbbox\u001b[0m \u001b[1;33m=\u001b[0m \u001b[0mBoundingBox\u001b[0m\u001b[1;33m(\u001b[0m\u001b[0mbbox\u001b[0m\u001b[1;33m)\u001b[0m\u001b[1;33m\u001b[0m\u001b[0m\n\u001b[0;32m    454\u001b[0m \u001b[1;33m\u001b[0m\u001b[0m\n\u001b[1;32m--> 455\u001b[1;33m     \u001b[0mresult\u001b[0m \u001b[1;33m=\u001b[0m \u001b[0mPlot\u001b[0m\u001b[1;33m(\u001b[0m\u001b[0mtarget\u001b[0m\u001b[1;33m,\u001b[0m \u001b[0mbbox\u001b[0m\u001b[1;33m,\u001b[0m \u001b[0mbackground\u001b[0m\u001b[1;33m=\u001b[0m\u001b[0mkwds\u001b[0m\u001b[1;33m.\u001b[0m\u001b[0mget\u001b[0m\u001b[1;33m(\u001b[0m\u001b[1;34m\"background\"\u001b[0m\u001b[1;33m,\u001b[0m \u001b[1;34m\"white\"\u001b[0m\u001b[1;33m)\u001b[0m\u001b[1;33m)\u001b[0m\u001b[1;33m\u001b[0m\u001b[0m\n\u001b[0m\u001b[0;32m    456\u001b[0m \u001b[1;33m\u001b[0m\u001b[0m\n\u001b[0;32m    457\u001b[0m     \u001b[1;32mif\u001b[0m \u001b[1;34m\"margin\"\u001b[0m \u001b[1;32min\u001b[0m \u001b[0mkwds\u001b[0m\u001b[1;33m:\u001b[0m\u001b[1;33m\u001b[0m\u001b[0m\n",
      "\u001b[1;32m~\\Anaconda3\\lib\\site-packages\\igraph\\drawing\\__init__.py\u001b[0m in \u001b[0;36m__init__\u001b[1;34m(self, target, bbox, palette, background)\u001b[0m\n\u001b[0;32m    118\u001b[0m         \"\"\"\n\u001b[0;32m    119\u001b[0m         \u001b[0mself\u001b[0m\u001b[1;33m.\u001b[0m\u001b[0m_filename\u001b[0m \u001b[1;33m=\u001b[0m \u001b[1;32mNone\u001b[0m\u001b[1;33m\u001b[0m\u001b[0m\n\u001b[1;32m--> 120\u001b[1;33m         \u001b[0mself\u001b[0m\u001b[1;33m.\u001b[0m\u001b[0m_surface_was_created\u001b[0m \u001b[1;33m=\u001b[0m \u001b[1;32mnot\u001b[0m \u001b[0misinstance\u001b[0m\u001b[1;33m(\u001b[0m\u001b[0mtarget\u001b[0m\u001b[1;33m,\u001b[0m \u001b[0mcairo\u001b[0m\u001b[1;33m.\u001b[0m\u001b[0mSurface\u001b[0m\u001b[1;33m)\u001b[0m\u001b[1;33m\u001b[0m\u001b[0m\n\u001b[0m\u001b[0;32m    121\u001b[0m         \u001b[0mself\u001b[0m\u001b[1;33m.\u001b[0m\u001b[0m_need_tmpfile\u001b[0m \u001b[1;33m=\u001b[0m \u001b[1;32mFalse\u001b[0m\u001b[1;33m\u001b[0m\u001b[0m\n\u001b[0;32m    122\u001b[0m \u001b[1;33m\u001b[0m\u001b[0m\n",
      "\u001b[1;32m~\\Anaconda3\\lib\\site-packages\\igraph\\drawing\\utils.py\u001b[0m in \u001b[0;36m__getattr__\u001b[1;34m(self, _)\u001b[0m\n\u001b[0;32m    394\u001b[0m \u001b[1;33m\u001b[0m\u001b[0m\n\u001b[0;32m    395\u001b[0m     \u001b[1;32mdef\u001b[0m \u001b[0m__getattr__\u001b[0m\u001b[1;33m(\u001b[0m\u001b[0mself\u001b[0m\u001b[1;33m,\u001b[0m \u001b[0m_\u001b[0m\u001b[1;33m)\u001b[0m\u001b[1;33m:\u001b[0m\u001b[1;33m\u001b[0m\u001b[0m\n\u001b[1;32m--> 396\u001b[1;33m         \u001b[1;32mraise\u001b[0m \u001b[0mTypeError\u001b[0m\u001b[1;33m(\u001b[0m\u001b[1;34m\"plotting not available\"\u001b[0m\u001b[1;33m)\u001b[0m\u001b[1;33m\u001b[0m\u001b[0m\n\u001b[0m\u001b[0;32m    397\u001b[0m     \u001b[1;32mdef\u001b[0m \u001b[0m__call__\u001b[0m\u001b[1;33m(\u001b[0m\u001b[0mself\u001b[0m\u001b[1;33m,\u001b[0m \u001b[0m_\u001b[0m\u001b[1;33m)\u001b[0m\u001b[1;33m:\u001b[0m\u001b[1;33m\u001b[0m\u001b[0m\n\u001b[0;32m    398\u001b[0m         \u001b[1;32mraise\u001b[0m \u001b[0mTypeError\u001b[0m\u001b[1;33m(\u001b[0m\u001b[1;34m\"plotting not available\"\u001b[0m\u001b[1;33m)\u001b[0m\u001b[1;33m\u001b[0m\u001b[0m\n",
      "\u001b[1;31mTypeError\u001b[0m: plotting not available"
     ]
    }
   ],
   "source": [
    "plot(g)"
   ]
  },
  {
   "cell_type": "code",
   "execution_count": null,
   "metadata": {},
   "outputs": [],
   "source": []
  }
 ],
 "metadata": {
  "kernelspec": {
   "display_name": "Python 3",
   "language": "python",
   "name": "python3"
  },
  "language_info": {
   "codemirror_mode": {
    "name": "ipython",
    "version": 3
   },
   "file_extension": ".py",
   "mimetype": "text/x-python",
   "name": "python",
   "nbconvert_exporter": "python",
   "pygments_lexer": "ipython3",
   "version": "3.6.5"
  }
 },
 "nbformat": 4,
 "nbformat_minor": 2
}
