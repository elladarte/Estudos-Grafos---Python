{
 "cells": [
  {
   "cell_type": "markdown",
   "metadata": {},
   "source": [
    "## Ordenação Topologica"
   ]
  },
  {
   "cell_type": "markdown",
   "metadata": {},
   "source": [
    "https://igraph.org/python/doc/tutorial/tutorial.html#generic-keyword-arguments-of-plot"
   ]
  },
  {
   "cell_type": "markdown",
   "metadata": {},
   "source": [
    "Ordenação Topologica é uma das principais aplicações de busca em profundidade. Ela é uma forma de listar os vertice de um grafo de modo que cada aresta (u,v) do grafo, u aparece antes de v na lista. Um requisito básico é que o grao não pode ter ciclos "
   ]
  },
  {
   "cell_type": "code",
   "execution_count": null,
   "metadata": {},
   "outputs": [],
   "source": [
    "grafo = [ [1],           \n",
    "          [2, 3],        \n",
    "          [1, 4],        \n",
    "          [0],           \n",
    "          [1]           \n",
    "        ]"
   ]
  },
  {
   "cell_type": "markdown",
   "metadata": {},
   "source": [
    "O algoritmo de ordenação topológica consiste de três passos principais:\n",
    "\n",
    "1-Execute o algoritmo de busca em profundidade no grafo e mantenha registro dos tempos em que cada vértice terminou de ser processado.\n",
    "\n",
    "2-No momento em que um vértice termina de ser processado (todos seus vizinhos já foram visitados), insira esse vértice no final de uma lista.\n",
    "\n",
    "3-Retorne a lista em ordem reversa."
   ]
  },
  {
   "cell_type": "code",
   "execution_count": null,
   "metadata": {},
   "outputs": [],
   "source": [
    "def ordenacao_topologica(grafo):\n",
    "    \"\"\"\n",
    "    DFS modificada para retornar a ordenação topológica do grafo. \n",
    "    Isso é feito por meio da lista com os tempos de término do processamento\n",
    "    de cada vértice, que será a ordenação topológica reversa do grafo.\n",
    "    \"\"\"\n",
    "    def dfs_recursiva(grafo, vertice):\n",
    "        visitados.add(vertice)\n",
    "        for vizinho in grafo[vertice]:\n",
    "            if vizinho not in visitados:\n",
    "                dfs_recursiva(grafo, vizinho)\n",
    "        tempo += 1\n",
    "        ordem_topologica[vertice] = tempo\n",
    "\n",
    "    visitados = set()\n",
    "    ordem_topologica = [0] * len(grafo)\n",
    "    tempo = 0\n",
    "    for vertice in grafo:\n",
    "        #if i in vertice:\n",
    "            \n",
    "        if vertice not in visitados:\n",
    "            dfs_recursiva(grafo, vertice)\n",
    "    ordem_topologica.reverse()\n",
    "    return ordem_topologica"
   ]
  },
  {
   "cell_type": "code",
   "execution_count": null,
   "metadata": {},
   "outputs": [],
   "source": [
    "ordem = ordenacao_topologica(grafo)"
   ]
  },
  {
   "cell_type": "markdown",
   "metadata": {},
   "source": [
    "Implementação Baseada no Grau dos Vértices"
   ]
  },
  {
   "cell_type": "markdown",
   "metadata": {},
   "source": [
    "A ideia deste algoritmo é a seguinte:\n",
    "\n",
    "1-Encontre um vértice com grau de entrada zero.\n",
    "\n",
    "2-Atribua a esse vértice o menor número disponível (ou coloque-o ao final de uma lista, como iremos fazer) ainda não utilizado.\n",
    "\n",
    "3-Remova o vértice do grafo e atualize o grau de entrada de todos os vizinhos do vértice removido.\n",
    "\n",
    "4-Repita os passos acima até que todos os vértices do grafo tenham sido numerados (colocados na lista)."
   ]
  },
  {
   "cell_type": "code",
   "execution_count": null,
   "metadata": {},
   "outputs": [],
   "source": [
    "graus_entrada = [0 for _ in range(len(grafo))]\n",
    "    for vertice in grafo:\n",
    "        for vizinho in grafo[vertice]:\n",
    "            graus_entrada[vizinho] += 1"
   ]
  },
  {
   "cell_type": "markdown",
   "metadata": {},
   "source": [
    "Com essas discussões, podemos refinar um pouco a ideia do algoritmo:\n",
    "\n",
    "1-Calcule o grau de entrada de todos os vértices do grafo e armazene esses graus de entrada em uma lista.\n",
    "\n",
    "2-Percorra a lista e insira em uma fila todos os vértices com grau de entrada igual a zero (conforme vimos, haverá pelos menos um vértice com essa propriedade).\n",
    "\n",
    "3-Remova o primeiro vértice da fila, insira-o em uma lista que armazena a ordem topológica do grafo e atualize o grau de entrada de seus vizinhos. Se nesse momento o grau de entrada de algum dos vizinhos do vértice em questão se tornar zero, insira esse vizinho na fila.\n",
    "\n",
    "4-Repita os passos acima enquanto houver vértices na fila"
   ]
  },
  {
   "cell_type": "code",
   "execution_count": null,
   "metadata": {},
   "outputs": [],
   "source": [
    "def ordenacao_topologica(grafo):\n",
    "    \"\"\"\n",
    "    Ordenação topológica baseada no grau de entrada dos vértices.\n",
    "    \"\"\"\n",
    "    ordem_topologica = []\n",
    "    # Calcula graus de entrada.\n",
    "    graus_entrada = [0 for _ in range(len(grafo))]\n",
    "    for vertice in grafo:\n",
    "        for vizinho in grafo[vertice]:\n",
    "            graus_entrada[vizinho] += 1\n",
    "    # Cria uma fila de vértices com grau de entrada zero.\n",
    "    fila = [v for v in range(len(grafo)) if graus_entrada[v] == 0]\n",
    "    while fila:\n",
    "        vertice = fila.pop()\n",
    "        ordem_topologica.append(vertice)\n",
    "        # Atualiza o grau de entrada dos vizinhos.\n",
    "        for vizinho in grafo[vertice]:\n",
    "            graus_entrada[vizinho] -= 1\n",
    "            # Algum dos vizinhos passou a ter grau de entrada zero.\n",
    "            if graus_entrada[vizinho] == 0:\n",
    "                fila.append(vizinho)\n",
    "    return ordem_topologica"
   ]
  },
  {
   "cell_type": "code",
   "execution_count": null,
   "metadata": {},
   "outputs": [],
   "source": [
    "ordem = ordenacao_topologica(grafo)"
   ]
  },
  {
   "cell_type": "markdown",
   "metadata": {},
   "source": [
    "Verificar a ordem dos vertice"
   ]
  },
  {
   "cell_type": "code",
   "execution_count": null,
   "metadata": {},
   "outputs": [],
   "source": [
    "def verifica_ordenacao_topologica(grafo, ordem_topologica):\n",
    "    \"\"\"\n",
    "    Verifica se uma ordenação topológica é válida.\n",
    "    \"\"\"\n",
    "    vnum = {}\n",
    "    for i in range(len(ordem_topologica)):\n",
    "        if ordem_topologica[i] not in grafo:\n",
    "            return False\n",
    "        vnum[ordem_topologica[i]] = i\n",
    "    \n",
    "    for v in grafo:\n",
    "        if v not in vnum:\n",
    "            return False\n",
    "        for w in grafo[v]:\n",
    "            if w not in vnum or vnum[w] <= vnum[v]:\n",
    "                return False\n",
    "    return True"
   ]
  },
  {
   "cell_type": "code",
   "execution_count": null,
   "metadata": {},
   "outputs": [],
   "source": [
    "ordem = verifica_ordenacao_topologica(grafo, ordenacao_topologica(grafo))"
   ]
  },
  {
   "cell_type": "code",
   "execution_count": null,
   "metadata": {},
   "outputs": [],
   "source": []
  }
 ],
 "metadata": {
  "kernelspec": {
   "display_name": "Python 3",
   "language": "python",
   "name": "python3"
  },
  "language_info": {
   "codemirror_mode": {
    "name": "ipython",
    "version": 3
   },
   "file_extension": ".py",
   "mimetype": "text/x-python",
   "name": "python",
   "nbconvert_exporter": "python",
   "pygments_lexer": "ipython3",
   "version": "3.6.5"
  }
 },
 "nbformat": 4,
 "nbformat_minor": 2
}
