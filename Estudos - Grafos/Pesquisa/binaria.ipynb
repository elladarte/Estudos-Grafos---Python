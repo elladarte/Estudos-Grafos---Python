{
 "cells": [
  {
   "cell_type": "markdown",
   "metadata": {},
   "source": [
    "## Pesquisa Binaria"
   ]
  },
  {
   "cell_type": "code",
   "execution_count": 1,
   "metadata": {},
   "outputs": [],
   "source": [
    "def pesquisa_binaria_recursiva(A, esquerda, direita, item):\n",
    "    \"\"\"Implementa pesquisa binária recursivamente.\"\"\"\n",
    "    # 1. Caso base: o elemento não está presente.\n",
    "    if direita < esquerda:\n",
    "        return -1\n",
    "    meio = (esquerda + direita) // 2\n",
    "    # 2. Nosso palpite estava certo: o elemento está no meio do arranjo.\n",
    "    if A[meio] == item:\n",
    "        return meio\n",
    "    # 3. O palpite estava errado: atualizamos os limites e continuamos a busca.\n",
    "    elif A[meio] > item:\n",
    "        return pesquisa_binaria_recursiva(A, esquerda, meio - 1, item)\n",
    "    else: # A[meio] < item\n",
    "        return pesquisa_binaria_recursiva(A, meio + 1, direita, item)"
   ]
  },
  {
   "cell_type": "code",
   "execution_count": 2,
   "metadata": {},
   "outputs": [],
   "source": [
    "A = [0, 10, 20, 30, 40, 50, 60, 70]"
   ]
  },
  {
   "cell_type": "code",
   "execution_count": 3,
   "metadata": {},
   "outputs": [
    {
     "name": "stdout",
     "output_type": "stream",
     "text": [
      "Pesquisa com sucesso: 2\n",
      "Pesquisa com sucesso: 0\n",
      "Pesquisa com sucesso: 7\n",
      "Pesquisa com sucesso: -1\n"
     ]
    }
   ],
   "source": [
    "print(\"Pesquisa com sucesso:\", pesquisa_binaria_recursiva(A, 0, len(A) - 1, 20))\n",
    "print(\"Pesquisa com sucesso:\", pesquisa_binaria_recursiva(A, 0, len(A) - 1, 0))\n",
    "print(\"Pesquisa com sucesso:\", pesquisa_binaria_recursiva(A, 0, len(A) - 1, 70))\n",
    "print(\"Pesquisa com sucesso:\", pesquisa_binaria_recursiva(A, 0, len(A) - 1, 100))"
   ]
  },
  {
   "cell_type": "code",
   "execution_count": 4,
   "metadata": {},
   "outputs": [],
   "source": [
    "def pesquisa_binaria(A, item):\n",
    "    \"\"\"Implementa pesquisa binária iterativamente.\"\"\"\n",
    "    esquerda, direita = 0, len(A) - 1\n",
    "    while esquerda <= direita:\n",
    "        meio = (esquerda + direita) // 2\n",
    "        if A[meio] == item:\n",
    "            return meio\n",
    "        elif A[meio] > item:\n",
    "            direita = meio - 1\n",
    "        else: # A[meio] < item\n",
    "            esquerda = meio + 1\n",
    "    return -1"
   ]
  },
  {
   "cell_type": "code",
   "execution_count": 5,
   "metadata": {},
   "outputs": [],
   "source": [
    "A = [0, 10, 20, 30, 40, 50, 60, 70]"
   ]
  },
  {
   "cell_type": "code",
   "execution_count": 6,
   "metadata": {},
   "outputs": [
    {
     "name": "stdout",
     "output_type": "stream",
     "text": [
      "Pesquisa com sucesso: 2\n",
      "Pesquisa com sucesso: 0\n",
      "Pesquisa com sucesso: 7\n",
      "Pesquisa com sucesso: -1\n"
     ]
    }
   ],
   "source": [
    "print(\"Pesquisa com sucesso:\", pesquisa_binaria(A, 20))\n",
    "print(\"Pesquisa com sucesso:\", pesquisa_binaria(A, 0))\n",
    "print(\"Pesquisa com sucesso:\", pesquisa_binaria(A, 70))\n",
    "print(\"Pesquisa com sucesso:\", pesquisa_binaria(A, 100))"
   ]
  },
  {
   "cell_type": "code",
   "execution_count": 7,
   "metadata": {},
   "outputs": [],
   "source": [
    "import bisect"
   ]
  },
  {
   "cell_type": "code",
   "execution_count": 8,
   "metadata": {},
   "outputs": [],
   "source": [
    "def pesquisa_binaria_bisect(A, item):\n",
    "    \"\"\"Implementa pesquisa binária usando bisect.\"\"\"\n",
    "    # Encontra o ponto onde o item deveria ser (ou está) inserido.\n",
    "    i = bisect.bisect_left(A, item)\n",
    "    # Testa se o item está na lista.\n",
    "    return i if i < len(A) and A[i] == item else -1"
   ]
  },
  {
   "cell_type": "code",
   "execution_count": 9,
   "metadata": {},
   "outputs": [],
   "source": [
    "A = [0, 10, 20, 30, 40, 50, 60, 70]"
   ]
  },
  {
   "cell_type": "code",
   "execution_count": 10,
   "metadata": {},
   "outputs": [
    {
     "name": "stdout",
     "output_type": "stream",
     "text": [
      "Pesquisa com sucesso: 2\n",
      "Pesquisa com sucesso: 0\n",
      "Pesquisa com sucesso: 7\n",
      "Pesquisa com falha: -1\n"
     ]
    }
   ],
   "source": [
    "print(\"Pesquisa com sucesso:\", pesquisa_binaria_bisect(A, 20))\n",
    "print(\"Pesquisa com sucesso:\", pesquisa_binaria_bisect(A, 0))\n",
    "print(\"Pesquisa com sucesso:\", pesquisa_binaria_bisect(A, 70))\n",
    "print(\"Pesquisa com falha:\", pesquisa_binaria_bisect(A, 100))"
   ]
  },
  {
   "cell_type": "code",
   "execution_count": 11,
   "metadata": {},
   "outputs": [],
   "source": [
    "import random"
   ]
  },
  {
   "cell_type": "code",
   "execution_count": 12,
   "metadata": {},
   "outputs": [],
   "source": [
    "def procura_entrada_igual_ao_indice(A):\n",
    "    \"\"\"Usa busca binária para encontrar um elemento igual ao índice.\"\"\"\n",
    "    esquerda, direita = 0, len(A) - 1\n",
    "    while esquerda <= direita:\n",
    "        meio = (esquerda + direita) // 2\n",
    "        diferenca = A[meio] - meio\n",
    "        if diferenca == 0:\n",
    "            return meio\n",
    "        elif diferenca > 0:\n",
    "            direita = meio - 1\n",
    "        else:  # diferenca < 0.\n",
    "            esquerda = meio + 1\n",
    "    return -1"
   ]
  },
  {
   "cell_type": "code",
   "execution_count": 13,
   "metadata": {},
   "outputs": [],
   "source": [
    "def procura_entrada_igual_ao_indice_linear(A):\n",
    "    \"\"\"Usa busca sequencial para encontrar um elemento igual ao índice.\"\"\"\n",
    "    for i, a in enumerate(A):\n",
    "        if a == i:\n",
    "            return i\n",
    "    return -1"
   ]
  },
  {
   "cell_type": "code",
   "execution_count": 14,
   "metadata": {},
   "outputs": [],
   "source": [
    "def testa_procura_entrada_igual_ao_indice():\n",
    "    for _ in range(1000):\n",
    "        # Gera o tamanho da lista aleatoriamente.\n",
    "        n = random.randint(1, 1000)\n",
    "        \n",
    "        # Gera a sequência de números aleatoriamente.\n",
    "        A = random.sample(range(0, 1000), n)\n",
    "        \n",
    "        # Ordena a sequência.\n",
    "        A.sort()\n",
    "        \n",
    "        # Obtém resposta usando pesquisa binária.\n",
    "        res_busca_binaria = procura_entrada_igual_ao_indice(A)\n",
    "        \n",
    "        # Verifica resposta.\n",
    "        if res_busca_binaria != -1:\n",
    "            assert res_busca_binaria == A[res_busca_binaria]\n",
    "        else:\n",
    "            assert res_busca_binaria == procura_entrada_igual_ao_indice_linear(A)\n",
    "\n",
    "    print(\"Sucesso!\")"
   ]
  },
  {
   "cell_type": "code",
   "execution_count": 15,
   "metadata": {},
   "outputs": [
    {
     "name": "stdout",
     "output_type": "stream",
     "text": [
      "Sucesso!\n"
     ]
    }
   ],
   "source": [
    "testa_procura_entrada_igual_ao_indice()"
   ]
  },
  {
   "cell_type": "code",
   "execution_count": null,
   "metadata": {},
   "outputs": [],
   "source": []
  }
 ],
 "metadata": {
  "kernelspec": {
   "display_name": "Python 3",
   "language": "python",
   "name": "python3"
  },
  "language_info": {
   "codemirror_mode": {
    "name": "ipython",
    "version": 3
   },
   "file_extension": ".py",
   "mimetype": "text/x-python",
   "name": "python",
   "nbconvert_exporter": "python",
   "pygments_lexer": "ipython3",
   "version": "3.6.5"
  }
 },
 "nbformat": 4,
 "nbformat_minor": 2
}
