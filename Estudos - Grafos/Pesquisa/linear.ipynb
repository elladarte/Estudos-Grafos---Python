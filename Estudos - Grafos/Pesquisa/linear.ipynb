{
 "cells": [
  {
   "cell_type": "markdown",
   "metadata": {},
   "source": [
    "## Pesquisa Linear"
   ]
  },
  {
   "cell_type": "code",
   "execution_count": 1,
   "metadata": {},
   "outputs": [],
   "source": [
    "def pesquisa_linear(arranjo, elemento_desejado):\n",
    "    for elemento in arranjo:\n",
    "        if elemento == elemento_desejado:\n",
    "            print(\"Elemento {} está presente no arranjo.\".format(elemento_desejado))\n",
    "            return\n",
    "    print(\"Elemento {} não está presente no arranjo.\".format(elemento_desejado))"
   ]
  },
  {
   "cell_type": "code",
   "execution_count": 2,
   "metadata": {},
   "outputs": [],
   "source": [
    "arranjo = list(range(1, 100))"
   ]
  },
  {
   "cell_type": "code",
   "execution_count": 3,
   "metadata": {},
   "outputs": [
    {
     "name": "stdout",
     "output_type": "stream",
     "text": [
      "Elemento 83 está presente no arranjo.\n"
     ]
    }
   ],
   "source": [
    "# Pesquisa por elemento presente.\n",
    "pesquisa_linear(arranjo, 83)"
   ]
  },
  {
   "cell_type": "code",
   "execution_count": 4,
   "metadata": {},
   "outputs": [
    {
     "name": "stdout",
     "output_type": "stream",
     "text": [
      "Elemento 200 não está presente no arranjo.\n"
     ]
    }
   ],
   "source": [
    "# Pesquisa por elemento ausente.\n",
    "pesquisa_linear(arranjo, 200)"
   ]
  },
  {
   "cell_type": "code",
   "execution_count": 5,
   "metadata": {},
   "outputs": [],
   "source": [
    "def pesquisa_linear_in(arranjo, item):\n",
    "    return item in arranjo"
   ]
  },
  {
   "cell_type": "code",
   "execution_count": 6,
   "metadata": {},
   "outputs": [],
   "source": [
    "arranjo = list(range(1, 100))"
   ]
  },
  {
   "cell_type": "code",
   "execution_count": 7,
   "metadata": {},
   "outputs": [
    {
     "name": "stdout",
     "output_type": "stream",
     "text": [
      "O elemento 83 está presente no arranjo? True\n"
     ]
    }
   ],
   "source": [
    "# Pesquisa por elemento presente.\n",
    "print(\"O elemento {} está presente no arranjo? {}\".format(83, pesquisa_linear_in(arranjo, 83)))"
   ]
  },
  {
   "cell_type": "code",
   "execution_count": 8,
   "metadata": {},
   "outputs": [
    {
     "name": "stdout",
     "output_type": "stream",
     "text": [
      "O elemento 200 está presente no arranjo? False\n"
     ]
    }
   ],
   "source": [
    "# Pesquisa por elemento ausente.\n",
    "print(\"O elemento {} está presente no arranjo? {}\".format(200, pesquisa_linear_in(arranjo, 200)))"
   ]
  },
  {
   "cell_type": "code",
   "execution_count": 9,
   "metadata": {},
   "outputs": [],
   "source": [
    "def pesquisa_linear_index(arranjo, item):\n",
    "    try:\n",
    "        return arranjo.index(item)\n",
    "    except ValueError:\n",
    "        return -1"
   ]
  },
  {
   "cell_type": "code",
   "execution_count": 10,
   "metadata": {},
   "outputs": [],
   "source": [
    "arranjo = list(range(1, 100))"
   ]
  },
  {
   "cell_type": "code",
   "execution_count": 11,
   "metadata": {},
   "outputs": [
    {
     "name": "stdout",
     "output_type": "stream",
     "text": [
      "O elemento 83 está no índice 82 do arranjo.\n"
     ]
    }
   ],
   "source": [
    "# Pesquisa por elemento presente.\n",
    "print(\"O elemento {} está no índice {} do arranjo.\".format(83, pesquisa_linear_index(arranjo, 83)))"
   ]
  },
  {
   "cell_type": "code",
   "execution_count": 12,
   "metadata": {},
   "outputs": [
    {
     "name": "stdout",
     "output_type": "stream",
     "text": [
      "O elemento 200 está no índice -1 do arranjo.\n"
     ]
    }
   ],
   "source": [
    "# Pesquisa por elemento ausente.\n",
    "print(\"O elemento {} está no índice {} do arranjo.\".format(200, pesquisa_linear_index(arranjo, 200)))"
   ]
  }
 ],
 "metadata": {
  "kernelspec": {
   "display_name": "Python 3",
   "language": "python",
   "name": "python3"
  },
  "language_info": {
   "codemirror_mode": {
    "name": "ipython",
    "version": 3
   },
   "file_extension": ".py",
   "mimetype": "text/x-python",
   "name": "python",
   "nbconvert_exporter": "python",
   "pygments_lexer": "ipython3",
   "version": "3.6.5"
  }
 },
 "nbformat": 4,
 "nbformat_minor": 2
}
