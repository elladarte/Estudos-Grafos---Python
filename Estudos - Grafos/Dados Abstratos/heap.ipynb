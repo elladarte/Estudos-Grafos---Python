{
 "cells": [
  {
   "cell_type": "markdown",
   "metadata": {},
   "source": [
    "## Tipos Abstrato de Dados - Heap"
   ]
  },
  {
   "cell_type": "markdown",
   "metadata": {},
   "source": [
    "Um heap é uma estrutura de dados usada para representar uma coleção de elementos organizados de uma maneira específica. Podemos visualizar um heap como sendo uma árvore binária balanceada—uma árvore em que os elementos folha estão a no máximo um nível de distância uns dos outros—que obedece a uma importante propriedade, chamada aqui de propriedade de heap"
   ]
  },
  {
   "cell_type": "code",
   "execution_count": 1,
   "metadata": {},
   "outputs": [],
   "source": [
    "def menor_elemento(A):\n",
    "    return A[1]\n",
    "\n",
    "def filho_esquerda(A, i):\n",
    "    return A[2 * i]\n",
    "\n",
    "def filho_direita(A, i):\n",
    "    return A[2 * i + 1]\n",
    "\n",
    "def pai(A, i):\n",
    "    return A[i // 2]    "
   ]
  },
  {
   "cell_type": "code",
   "execution_count": 2,
   "metadata": {},
   "outputs": [],
   "source": [
    "def eh_heap(A):\n",
    "    for i in range(2, len(A)):\n",
    "        if A[i] > A[i // 2]:\n",
    "            return False\n",
    "    return True"
   ]
  },
  {
   "cell_type": "markdown",
   "metadata": {},
   "source": [
    "Construindo um Heap"
   ]
  },
  {
   "cell_type": "code",
   "execution_count": 3,
   "metadata": {},
   "outputs": [],
   "source": [
    "def promove(A, n):\n",
    "    i = n\n",
    "    while True:\n",
    "        # Elemento chegou na raiz da árvore.\n",
    "        if i == 1:\n",
    "            break\n",
    "\n",
    "        # Elemento chegou na posição correta.\n",
    "        p = i // 2\n",
    "        if A[p] >= A[i]:\n",
    "            break\n",
    "\n",
    "        # Troca elemento de lugar com o pai.\n",
    "        A[p], A[i] = A[i], A[p]\n",
    "        i = p"
   ]
  },
  {
   "cell_type": "code",
   "execution_count": 4,
   "metadata": {},
   "outputs": [],
   "source": [
    "def demove(A, n):\n",
    "    i = 1\n",
    "    while True:\n",
    "        c = 2 * i\n",
    "\n",
    "        # Elemento não tem mais filhos.\n",
    "        if c > n:\n",
    "            break\n",
    "\n",
    "        # Encontra o índice do maior dos filhos.\n",
    "        if c + 1 <= n:\n",
    "            if A[c + 1] > A[c]:\n",
    "                c += 1\n",
    "\n",
    "        # O elemento é menor que seu maior filho.\n",
    "        if A[i] <= A[c]:\n",
    "            break\n",
    "\n",
    "        # Troca elemento de lugar com o maior filho.\n",
    "        A[c], A[i] = A[i], A[c]\n",
    "        i = c"
   ]
  },
  {
   "cell_type": "code",
   "execution_count": 5,
   "metadata": {},
   "outputs": [],
   "source": [
    "def heapsort(A, n):\n",
    "    # Primeiro estágio: construção do heap.\n",
    "    for i in range(2, n):\n",
    "        promove(A, i)\n",
    "\n",
    "    # Segundo estágio: construção da sequência ordenada.\n",
    "    for i in range(n, 1, -1):\n",
    "        A[1], A[i] = A[i], A[1]\n",
    "        demove(A, i - 1)"
   ]
  },
  {
   "cell_type": "code",
   "execution_count": null,
   "metadata": {},
   "outputs": [],
   "source": []
  }
 ],
 "metadata": {
  "kernelspec": {
   "display_name": "Python 3",
   "language": "python",
   "name": "python3"
  },
  "language_info": {
   "codemirror_mode": {
    "name": "ipython",
    "version": 3
   },
   "file_extension": ".py",
   "mimetype": "text/x-python",
   "name": "python",
   "nbconvert_exporter": "python",
   "pygments_lexer": "ipython3",
   "version": "3.6.5"
  }
 },
 "nbformat": 4,
 "nbformat_minor": 2
}
