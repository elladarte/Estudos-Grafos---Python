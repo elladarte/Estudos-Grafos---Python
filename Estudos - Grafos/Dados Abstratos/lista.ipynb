{
 "cells": [
  {
   "cell_type": "markdown",
   "metadata": {},
   "source": [
    "## Listas Encadeadas"
   ]
  },
  {
   "cell_type": "markdown",
   "metadata": {},
   "source": [
    "Listas encadeadas é uma estrutura de dados recorrente."
   ]
  },
  {
   "cell_type": "code",
   "execution_count": 29,
   "metadata": {},
   "outputs": [],
   "source": [
    "class No:\n",
    "    def __init__(self, carga = None, proximo = None):\n",
    "        self.carga = carga\n",
    "        self.proximo = proximo\n",
    "        \n",
    "    def __str__(self):\n",
    "        return str(self.carga)\n",
    "    \n",
    "    def imprimeDeTrasParaFrente(self):\n",
    "        if self.proximo != None:\n",
    "            rabo = self.proximo\n",
    "            rabo.imprimeDeTrasParaFrente()\n",
    "        print(self.carga,end = \"\")"
   ]
  },
  {
   "cell_type": "code",
   "execution_count": 2,
   "metadata": {},
   "outputs": [],
   "source": [
    "no = No(\"teste\")"
   ]
  },
  {
   "cell_type": "code",
   "execution_count": 3,
   "metadata": {},
   "outputs": [
    {
     "name": "stdout",
     "output_type": "stream",
     "text": [
      "teste\n"
     ]
    }
   ],
   "source": [
    "print(no)"
   ]
  },
  {
   "cell_type": "code",
   "execution_count": 4,
   "metadata": {},
   "outputs": [],
   "source": [
    "no1 = No(1)\n",
    "no2 = No(2)\n",
    "no3 = No(3)"
   ]
  },
  {
   "cell_type": "code",
   "execution_count": 5,
   "metadata": {},
   "outputs": [],
   "source": [
    "no1.proximo = no2\n",
    "no2.proximo = no3"
   ]
  },
  {
   "cell_type": "markdown",
   "metadata": {},
   "source": [
    "Lista como Coleções"
   ]
  },
  {
   "cell_type": "code",
   "execution_count": 12,
   "metadata": {},
   "outputs": [],
   "source": [
    "def imprimeLista(no):\n",
    "    while no:\n",
    "        print(no, end=\" \")\n",
    "        no = no.proximo"
   ]
  },
  {
   "cell_type": "code",
   "execution_count": 13,
   "metadata": {},
   "outputs": [
    {
     "name": "stdout",
     "output_type": "stream",
     "text": [
      "1 2 3 "
     ]
    }
   ],
   "source": [
    "imprimeLista(no1)"
   ]
  },
  {
   "cell_type": "markdown",
   "metadata": {},
   "source": [
    "Lista de Recorrência "
   ]
  },
  {
   "cell_type": "code",
   "execution_count": 14,
   "metadata": {},
   "outputs": [],
   "source": [
    "def imprimeDeTrasParaFrente(lista):\n",
    "    if lista == None : return\n",
    "    cabeca = lista\n",
    "    rabo = lista.proximo\n",
    "    imprimeDeTrasParaFrente(rabo)\n",
    "    print(cabeca)"
   ]
  },
  {
   "cell_type": "code",
   "execution_count": 15,
   "metadata": {},
   "outputs": [
    {
     "name": "stdout",
     "output_type": "stream",
     "text": [
      "3\n",
      "2\n",
      "1\n"
     ]
    }
   ],
   "source": [
    "imprimeDeTrasParaFrente(no1)"
   ]
  },
  {
   "cell_type": "markdown",
   "metadata": {},
   "source": [
    "Teorema da Ambiquidade Fundamental\n",
    "\n",
    "O teorema da ambigüidade fundamental descreve a ambigüidade que é inerente à referência a um nó: Uma variável que refere a um nó pode tratar o nó como um objeto único ou como o primeiro em uma lista de nós."
   ]
  },
  {
   "cell_type": "code",
   "execution_count": 16,
   "metadata": {},
   "outputs": [],
   "source": [
    "lista = no1\n",
    "cabeca = lista\n",
    "rabo = lista.proximo"
   ]
  },
  {
   "cell_type": "code",
   "execution_count": 17,
   "metadata": {},
   "outputs": [],
   "source": [
    "def imprimeDeTrasParaFrente(lista):\n",
    "    if lista == None : return\n",
    "    imprimeDeTrasParaFrente(lista.proximo)\n",
    "    print(lista,end = \" \")"
   ]
  },
  {
   "cell_type": "code",
   "execution_count": 18,
   "metadata": {},
   "outputs": [
    {
     "name": "stdout",
     "output_type": "stream",
     "text": [
      "3 2 1 "
     ]
    }
   ],
   "source": [
    "imprimeDeTrasParaFrente(lista)"
   ]
  },
  {
   "cell_type": "code",
   "execution_count": 19,
   "metadata": {},
   "outputs": [
    {
     "name": "stdout",
     "output_type": "stream",
     "text": [
      "3 2 1 "
     ]
    }
   ],
   "source": [
    "imprimeDeTrasParaFrente(cabeca)"
   ]
  },
  {
   "cell_type": "code",
   "execution_count": 20,
   "metadata": {},
   "outputs": [
    {
     "name": "stdout",
     "output_type": "stream",
     "text": [
      "3 2 "
     ]
    }
   ],
   "source": [
    "imprimeDeTrasParaFrente(rabo)"
   ]
  },
  {
   "cell_type": "markdown",
   "metadata": {},
   "source": [
    "Modificando Listas"
   ]
  },
  {
   "cell_type": "code",
   "execution_count": 22,
   "metadata": {},
   "outputs": [],
   "source": [
    "def removeSegundo(lista):\n",
    "    if lista == None: return \n",
    "    primeiro = lista\n",
    "    segundo = lista.proximo\n",
    "    primeiro.proximo = segundo.proximo\n",
    "    segundo.proximo = None\n",
    "    return segundo"
   ]
  },
  {
   "cell_type": "code",
   "execution_count": 23,
   "metadata": {},
   "outputs": [
    {
     "name": "stdout",
     "output_type": "stream",
     "text": [
      "1 2 3 "
     ]
    }
   ],
   "source": [
    "imprimeLista(no1)"
   ]
  },
  {
   "cell_type": "code",
   "execution_count": 24,
   "metadata": {},
   "outputs": [
    {
     "name": "stdout",
     "output_type": "stream",
     "text": [
      "2 "
     ]
    }
   ],
   "source": [
    "removido = removeSegundo(no1)\n",
    "imprimeLista(removido)"
   ]
  },
  {
   "cell_type": "code",
   "execution_count": 25,
   "metadata": {},
   "outputs": [
    {
     "name": "stdout",
     "output_type": "stream",
     "text": [
      "1 3 "
     ]
    }
   ],
   "source": [
    "imprimeLista(no1)"
   ]
  },
  {
   "cell_type": "markdown",
   "metadata": {},
   "source": [
    "Envoltorios e Ajudadores"
   ]
  },
  {
   "cell_type": "code",
   "execution_count": 26,
   "metadata": {},
   "outputs": [],
   "source": [
    "def imprimeDeTrasParaFrenteLegal(lista):\n",
    "    print(\"[\", end=\"\")\n",
    "    if lista != None :\n",
    "        cabeca = lista\n",
    "        rabo = lista.proximo\n",
    "        imprimeDeTrasParaFrente(rabo)\n",
    "        print(cabeca, end=\"\")\n",
    "    print(\"]\",end=\"\")"
   ]
  },
  {
   "cell_type": "code",
   "execution_count": 27,
   "metadata": {},
   "outputs": [
    {
     "name": "stdout",
     "output_type": "stream",
     "text": [
      "[3 1]"
     ]
    }
   ],
   "source": [
    "imprimeDeTrasParaFrenteLegal(no1)"
   ]
  },
  {
   "cell_type": "code",
   "execution_count": 32,
   "metadata": {},
   "outputs": [],
   "source": [
    "class ListaLigada:\n",
    "    \n",
    "    def __init__(self):\n",
    "        self.comprimento = 0\n",
    "        self.cabeca = None\n",
    "        \n",
    "    def imprimeDeTrasParaFrente(self):\n",
    "        print(\"[\", end = \"\")\n",
    "        if self.cabeca != None:\n",
    "            self.cabeca.imprimeDeTrasParaFrente()\n",
    "        print(\"]\", end = \"\")\n",
    "    \n",
    "    def adicionaPrimeiro(self,carga):\n",
    "        no = No(carga)\n",
    "        no.proximo = self.cabeca\n",
    "        self.cabeca = no\n",
    "        self.comprimento = self.comprimento + 1        "
   ]
  },
  {
   "cell_type": "code",
   "execution_count": 33,
   "metadata": {},
   "outputs": [],
   "source": [
    "no = ListaLigada()"
   ]
  },
  {
   "cell_type": "code",
   "execution_count": 34,
   "metadata": {},
   "outputs": [],
   "source": [
    "no.adicionaPrimeiro(1)"
   ]
  },
  {
   "cell_type": "code",
   "execution_count": 36,
   "metadata": {},
   "outputs": [],
   "source": [
    "no.adicionaPrimeiro(2)"
   ]
  },
  {
   "cell_type": "code",
   "execution_count": 37,
   "metadata": {},
   "outputs": [],
   "source": [
    "no.adicionaPrimeiro(3)"
   ]
  },
  {
   "cell_type": "code",
   "execution_count": 38,
   "metadata": {},
   "outputs": [
    {
     "name": "stdout",
     "output_type": "stream",
     "text": [
      "[123]"
     ]
    }
   ],
   "source": [
    "no.imprimeDeTrasParaFrente()"
   ]
  },
  {
   "cell_type": "code",
   "execution_count": null,
   "metadata": {},
   "outputs": [],
   "source": []
  }
 ],
 "metadata": {
  "kernelspec": {
   "display_name": "Python 3",
   "language": "python",
   "name": "python3"
  },
  "language_info": {
   "codemirror_mode": {
    "name": "ipython",
    "version": 3
   },
   "file_extension": ".py",
   "mimetype": "text/x-python",
   "name": "python",
   "nbconvert_exporter": "python",
   "pygments_lexer": "ipython3",
   "version": "3.6.5"
  }
 },
 "nbformat": 4,
 "nbformat_minor": 2
}
