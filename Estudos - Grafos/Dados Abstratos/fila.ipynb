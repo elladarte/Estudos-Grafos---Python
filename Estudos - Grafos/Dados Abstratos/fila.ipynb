{
 "cells": [
  {
   "cell_type": "markdown",
   "metadata": {},
   "source": [
    "## Tipo Abstrato de Dado - Fila"
   ]
  },
  {
   "cell_type": "markdown",
   "metadata": {},
   "source": [
    "Fila Encadeada"
   ]
  },
  {
   "cell_type": "code",
   "execution_count": 3,
   "metadata": {},
   "outputs": [],
   "source": [
    "class Queue():\n",
    "    \n",
    "    def __init__(self):\n",
    "        self.length = 0\n",
    "        self.head = None\n",
    "        \n",
    "    def insert(self, cargo):\n",
    "        node = Node(cargo)\n",
    "        node.next = None\n",
    "        if self.head == None:\n",
    "            self.head = node\n",
    "        else:\n",
    "            last = self.head\n",
    "            while last.next: \n",
    "                last = last.next\n",
    "                last.next = node\n",
    "            self.length = self.length + 1\n",
    "    \n",
    "    def remove(self):\n",
    "        cargo = self.head.cargo\n",
    "        self.head = self.head.next\n",
    "        self.length = self.length - 1\n",
    "        return cargo"
   ]
  },
  {
   "cell_type": "code",
   "execution_count": 7,
   "metadata": {},
   "outputs": [],
   "source": [
    "class Node():\n",
    "    \n",
    "    def __init__(self, dado=0, nodo_anterior=None):\n",
    "        self.dado = dado\n",
    "        self.anterior = nodo_anterior\n",
    "\n",
    "    def __repr__(self):\n",
    "        return '%s -> %s' % (self.dado, self.anterior)"
   ]
  },
  {
   "cell_type": "code",
   "execution_count": 8,
   "metadata": {},
   "outputs": [],
   "source": [
    "fila = Queue()"
   ]
  },
  {
   "cell_type": "code",
   "execution_count": 9,
   "metadata": {},
   "outputs": [],
   "source": [
    "fila.insert(1)"
   ]
  },
  {
   "cell_type": "code",
   "execution_count": 11,
   "metadata": {},
   "outputs": [],
   "source": [
    "fila.insert(2)"
   ]
  },
  {
   "cell_type": "code",
   "execution_count": 17,
   "metadata": {},
   "outputs": [
    {
     "data": {
      "text/plain": [
       "<method-wrapper '__repr__' of Queue object at 0x000001A339ED8080>"
      ]
     },
     "execution_count": 17,
     "metadata": {},
     "output_type": "execute_result"
    }
   ],
   "source": [
    "Fila Encadeada Aprimorada"
   ]
  },
  {
   "cell_type": "code",
   "execution_count": 40,
   "metadata": {},
   "outputs": [],
   "source": [
    "class ImproveQueue():\n",
    "    \n",
    "    def __init__(self):\n",
    "        self.lenght = 0\n",
    "        self.head = None\n",
    "        self.last = None\n",
    "        \n",
    "    def isEmpty(self):\n",
    "        return(self.lenght == 0)\n",
    "    \n",
    "    def insert(self, cargo):\n",
    "        node = Node(cargo)\n",
    "        node.next = None\n",
    "        if self.lenght == 0:\n",
    "            self.head = self.last\n",
    "            self.last = node\n",
    "        else:\n",
    "            last = self.last\n",
    "            last.next = node\n",
    "            self.last = node\n",
    "        self.lenght = self.lenght + 1\n",
    "        \n",
    "    def remove(self):\n",
    "        cargo = self.head\n",
    "        self.head = self.head\n",
    "        self.lenght = self.lenght - 1\n",
    "        if self.lenght == 0:\n",
    "            self.last = None\n",
    "        return cargo"
   ]
  },
  {
   "cell_type": "code",
   "execution_count": 41,
   "metadata": {},
   "outputs": [],
   "source": [
    "fila1 = ImproveQueue()"
   ]
  },
  {
   "cell_type": "code",
   "execution_count": 42,
   "metadata": {},
   "outputs": [],
   "source": [
    "fila1.insert(1)"
   ]
  },
  {
   "cell_type": "code",
   "execution_count": 43,
   "metadata": {},
   "outputs": [
    {
     "data": {
      "text/plain": [
       "False"
      ]
     },
     "execution_count": 43,
     "metadata": {},
     "output_type": "execute_result"
    }
   ],
   "source": [
    "fila1.isEmpty()"
   ]
  },
  {
   "cell_type": "code",
   "execution_count": 44,
   "metadata": {},
   "outputs": [],
   "source": [
    "fila1.insert(2)"
   ]
  },
  {
   "cell_type": "code",
   "execution_count": 45,
   "metadata": {},
   "outputs": [],
   "source": [
    "fila1.insert(3)"
   ]
  },
  {
   "cell_type": "code",
   "execution_count": 46,
   "metadata": {},
   "outputs": [],
   "source": [
    "fila1.remove()"
   ]
  },
  {
   "cell_type": "code",
   "execution_count": 47,
   "metadata": {},
   "outputs": [],
   "source": [
    "fila1.remove()"
   ]
  },
  {
   "cell_type": "code",
   "execution_count": 48,
   "metadata": {},
   "outputs": [
    {
     "data": {
      "text/plain": [
       "False"
      ]
     },
     "execution_count": 48,
     "metadata": {},
     "output_type": "execute_result"
    }
   ],
   "source": [
    "fila1.isEmpty()"
   ]
  },
  {
   "cell_type": "code",
   "execution_count": 49,
   "metadata": {},
   "outputs": [],
   "source": [
    "fila1.remove()"
   ]
  },
  {
   "cell_type": "code",
   "execution_count": 51,
   "metadata": {},
   "outputs": [
    {
     "data": {
      "text/plain": [
       "True"
      ]
     },
     "execution_count": 51,
     "metadata": {},
     "output_type": "execute_result"
    }
   ],
   "source": [
    "fila1.isEmpty()"
   ]
  },
  {
   "cell_type": "markdown",
   "metadata": {},
   "source": [
    "Fila por Prioridade"
   ]
  },
  {
   "cell_type": "code",
   "execution_count": 76,
   "metadata": {},
   "outputs": [],
   "source": [
    "class PriorityQueue():\n",
    "    \n",
    "    def __init__(self):\n",
    "        self.items = []\n",
    "        \n",
    "    def isEmpty(self):\n",
    "        return self.items == []\n",
    "    \n",
    "    def insert(self, item):\n",
    "        self.items.append(item)\n",
    "        \n",
    "    def remove(self):\n",
    "        maxi = 0\n",
    "        for i in range(1, len(self.items)):\n",
    "            if self.items[i] > self.items[maxi]:\n",
    "                maxi = i\n",
    "        item = self.items[maxi]\n",
    "        self.items[maxi:maxi+1] = []\n",
    "        return item"
   ]
  },
  {
   "cell_type": "code",
   "execution_count": 56,
   "metadata": {},
   "outputs": [],
   "source": [
    "q = PriorityQueue()"
   ]
  },
  {
   "cell_type": "code",
   "execution_count": 57,
   "metadata": {},
   "outputs": [],
   "source": [
    "q.insert(11)"
   ]
  },
  {
   "cell_type": "code",
   "execution_count": 58,
   "metadata": {},
   "outputs": [],
   "source": [
    "q.insert(12)\n",
    "q.insert(14)\n",
    "q.insert(13)"
   ]
  },
  {
   "cell_type": "code",
   "execution_count": 60,
   "metadata": {},
   "outputs": [
    {
     "name": "stdout",
     "output_type": "stream",
     "text": [
      "14\n",
      "13\n",
      "12\n",
      "11\n"
     ]
    }
   ],
   "source": [
    "while not q.isEmpty():\n",
    "    print(q.remove())"
   ]
  },
  {
   "cell_type": "markdown",
   "metadata": {},
   "source": [
    "Pontuação de Golfe"
   ]
  },
  {
   "cell_type": "code",
   "execution_count": 70,
   "metadata": {},
   "outputs": [],
   "source": [
    "class Golfer():\n",
    "    \n",
    "    def __init__(self, name, score):\n",
    "        self.name = name\n",
    "        self.score = score\n",
    "        \n",
    "    def __str__ (self):\n",
    "        return \"%-16s: %d\" %(self.name, self.score)\n",
    "    \n",
    "    def __cmp__(self, other):\n",
    "        if self.score < other.score:\n",
    "            return 1\n",
    "        if self.score > other.score:\n",
    "            return -1\n",
    "        return 0 "
   ]
  },
  {
   "cell_type": "code",
   "execution_count": 71,
   "metadata": {},
   "outputs": [],
   "source": [
    "tiger = Golfer(\"Tiger Woods\",61)\n",
    "phil = Golfer(\"Phil Mickelson\",72)\n",
    "hal = Golfer(\"Hall Sutton\",69)"
   ]
  },
  {
   "cell_type": "code",
   "execution_count": 72,
   "metadata": {},
   "outputs": [],
   "source": [
    "pq = PriorityQueue()"
   ]
  },
  {
   "cell_type": "code",
   "execution_count": 78,
   "metadata": {},
   "outputs": [],
   "source": [
    "pq.insert(tiger)\n",
    "pq.insert(phil)\n",
    "pq.insert(hal)"
   ]
  },
  {
   "cell_type": "code",
   "execution_count": 83,
   "metadata": {},
   "outputs": [
    {
     "ename": "TypeError",
     "evalue": "'>' not supported between instances of 'Golfer' and 'Golfer'",
     "output_type": "error",
     "traceback": [
      "\u001b[1;31m---------------------------------------------------------------------------\u001b[0m",
      "\u001b[1;31mTypeError\u001b[0m                                 Traceback (most recent call last)",
      "\u001b[1;32m<ipython-input-83-9914f1bca2e6>\u001b[0m in \u001b[0;36m<module>\u001b[1;34m()\u001b[0m\n\u001b[0;32m      1\u001b[0m \u001b[1;32mwhile\u001b[0m \u001b[1;32mnot\u001b[0m \u001b[0mpq\u001b[0m\u001b[1;33m.\u001b[0m\u001b[0misEmpty\u001b[0m\u001b[1;33m(\u001b[0m\u001b[1;33m)\u001b[0m\u001b[1;33m:\u001b[0m\u001b[1;33m\u001b[0m\u001b[0m\n\u001b[1;32m----> 2\u001b[1;33m     \u001b[0mprint\u001b[0m\u001b[1;33m(\u001b[0m\u001b[0mpq\u001b[0m\u001b[1;33m.\u001b[0m\u001b[0mremove\u001b[0m\u001b[1;33m(\u001b[0m\u001b[1;33m)\u001b[0m\u001b[1;33m)\u001b[0m\u001b[1;33m\u001b[0m\u001b[0m\n\u001b[0m",
      "\u001b[1;32m<ipython-input-55-425d90091d7c>\u001b[0m in \u001b[0;36mremove\u001b[1;34m(self)\u001b[0m\n\u001b[0;32m     13\u001b[0m         \u001b[0mmaxi\u001b[0m \u001b[1;33m=\u001b[0m \u001b[1;36m0\u001b[0m\u001b[1;33m\u001b[0m\u001b[0m\n\u001b[0;32m     14\u001b[0m         \u001b[1;32mfor\u001b[0m \u001b[0mi\u001b[0m \u001b[1;32min\u001b[0m \u001b[0mrange\u001b[0m\u001b[1;33m(\u001b[0m\u001b[1;36m1\u001b[0m\u001b[1;33m,\u001b[0m \u001b[0mlen\u001b[0m\u001b[1;33m(\u001b[0m\u001b[0mself\u001b[0m\u001b[1;33m.\u001b[0m\u001b[0mitems\u001b[0m\u001b[1;33m)\u001b[0m\u001b[1;33m)\u001b[0m\u001b[1;33m:\u001b[0m\u001b[1;33m\u001b[0m\u001b[0m\n\u001b[1;32m---> 15\u001b[1;33m             \u001b[1;32mif\u001b[0m \u001b[0mself\u001b[0m\u001b[1;33m.\u001b[0m\u001b[0mitems\u001b[0m\u001b[1;33m[\u001b[0m\u001b[0mi\u001b[0m\u001b[1;33m]\u001b[0m \u001b[1;33m>\u001b[0m \u001b[0mself\u001b[0m\u001b[1;33m.\u001b[0m\u001b[0mitems\u001b[0m\u001b[1;33m[\u001b[0m\u001b[0mmaxi\u001b[0m\u001b[1;33m]\u001b[0m\u001b[1;33m:\u001b[0m\u001b[1;33m\u001b[0m\u001b[0m\n\u001b[0m\u001b[0;32m     16\u001b[0m                 \u001b[0mmaxi\u001b[0m \u001b[1;33m=\u001b[0m \u001b[0mi\u001b[0m\u001b[1;33m\u001b[0m\u001b[0m\n\u001b[0;32m     17\u001b[0m         \u001b[0mitem\u001b[0m \u001b[1;33m=\u001b[0m \u001b[0mself\u001b[0m\u001b[1;33m.\u001b[0m\u001b[0mitems\u001b[0m\u001b[1;33m[\u001b[0m\u001b[0mmaxi\u001b[0m\u001b[1;33m]\u001b[0m\u001b[1;33m\u001b[0m\u001b[0m\n",
      "\u001b[1;31mTypeError\u001b[0m: '>' not supported between instances of 'Golfer' and 'Golfer'"
     ]
    }
   ],
   "source": [
    "while not pq.isEmpty():\n",
    "    print(pq.remove())"
   ]
  },
  {
   "cell_type": "code",
   "execution_count": 75,
   "metadata": {},
   "outputs": [
    {
     "name": "stdout",
     "output_type": "stream",
     "text": [
      "Tiger Woods     : 61\n"
     ]
    }
   ],
   "source": [
    "print(tiger)"
   ]
  },
  {
   "cell_type": "markdown",
   "metadata": {},
   "source": [
    "Fila Estruturada"
   ]
  },
  {
   "cell_type": "code",
   "execution_count": 84,
   "metadata": {},
   "outputs": [],
   "source": [
    "class Nodo:\n",
    "    \n",
    "    def __init__(self, dado=0, proximo_nodo=None):\n",
    "        self.dado = dado\n",
    "        self.proximo = proximo_nodo\n",
    "\n",
    "    def __repr__(self):\n",
    "        return '%s -> %s' % (self.dado, self.proximo)"
   ]
  },
  {
   "cell_type": "code",
   "execution_count": 87,
   "metadata": {},
   "outputs": [],
   "source": [
    "class Fila:\n",
    "    \n",
    "    def __init__(self): \n",
    "        self.primeiro = None\n",
    "        self.ultimo   = None\n",
    "\n",
    "    def __repr__(self):\n",
    "        return \"[\" + str(self.primeiro) + \"]\"\n",
    "    \n",
    "    def insere(self, novo_dado):\n",
    "        novo_nodo = Nodo(novo_dado)\n",
    "    \n",
    "        if self.primeiro == None:\n",
    "            self.primeiro = novo_nodo\n",
    "            self.ultimo = novo_nodo\n",
    "        else:\n",
    "            self.ultimo.proximo = novo_nodo\n",
    "            self.ultimo = novo_nodo\n",
    "            \n",
    "    def remove(self):\n",
    "        assert self.primeiro != None , print(\"Impossível remover elemento de fila vazia.\")\n",
    "        self.primeiro = self.primeiro.proximo\n",
    "        if self.primeiro == None:\n",
    "            self.ultimo = None"
   ]
  },
  {
   "cell_type": "code",
   "execution_count": 88,
   "metadata": {},
   "outputs": [
    {
     "name": "stdout",
     "output_type": "stream",
     "text": [
      "Fila vazia:  [None]\n"
     ]
    }
   ],
   "source": [
    "fila = Fila()\n",
    "print(\"Fila vazia: \", fila)"
   ]
  },
  {
   "cell_type": "code",
   "execution_count": 89,
   "metadata": {},
   "outputs": [
    {
     "name": "stdout",
     "output_type": "stream",
     "text": [
      "Insere o valor 0 final da fila: [0 -> None]\n",
      "Insere o valor 1 final da fila: [0 -> 1 -> None]\n",
      "Insere o valor 2 final da fila: [0 -> 1 -> 2 -> None]\n",
      "Insere o valor 3 final da fila: [0 -> 1 -> 2 -> 3 -> None]\n",
      "Insere o valor 4 final da fila: [0 -> 1 -> 2 -> 3 -> 4 -> None]\n"
     ]
    }
   ],
   "source": [
    "for i in range(5):\n",
    "    fila.insere(i)\n",
    "    print(\"Insere o valor {0} final da fila: {1}\".format(i, fila))"
   ]
  },
  {
   "cell_type": "code",
   "execution_count": 90,
   "metadata": {},
   "outputs": [
    {
     "name": "stdout",
     "output_type": "stream",
     "text": [
      "Removendo elemento que está no começo da fila:  [1 -> 2 -> 3 -> 4 -> None]\n",
      "Removendo elemento que está no começo da fila:  [2 -> 3 -> 4 -> None]\n",
      "Removendo elemento que está no começo da fila:  [3 -> 4 -> None]\n",
      "Removendo elemento que está no começo da fila:  [4 -> None]\n",
      "Removendo elemento que está no começo da fila:  [None]\n"
     ]
    }
   ],
   "source": [
    "while fila.primeiro != None:\n",
    "    fila.remove()\n",
    "    print(\"Removendo elemento que está no começo da fila: \", fila)"
   ]
  },
  {
   "cell_type": "code",
   "execution_count": null,
   "metadata": {},
   "outputs": [],
   "source": [
    "Usando a biblioteca collections de "
   ]
  }
 ],
 "metadata": {
  "kernelspec": {
   "display_name": "Python 3",
   "language": "python",
   "name": "python3"
  },
  "language_info": {
   "codemirror_mode": {
    "name": "ipython",
    "version": 3
   },
   "file_extension": ".py",
   "mimetype": "text/x-python",
   "name": "python",
   "nbconvert_exporter": "python",
   "pygments_lexer": "ipython3",
   "version": "3.6.5"
  }
 },
 "nbformat": 4,
 "nbformat_minor": 2
}
