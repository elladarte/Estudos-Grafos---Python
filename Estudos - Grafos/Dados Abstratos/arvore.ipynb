{
 "cells": [
  {
   "cell_type": "markdown",
   "metadata": {},
   "source": [
    "## Tipos Abstrato de Dados - Árvores "
   ]
  },
  {
   "cell_type": "markdown",
   "metadata": {},
   "source": [
    "Arvore é uma estrutura não linear usada para representar relações de hierarquia ou subordinação."
   ]
  },
  {
   "cell_type": "markdown",
   "metadata": {},
   "source": [
    "Construindo Arvores"
   ]
  },
  {
   "cell_type": "code",
   "execution_count": 13,
   "metadata": {},
   "outputs": [],
   "source": [
    "class Tree :\n",
    "    \n",
    "    def __init__(self, cargo, left=None, right=None) :\n",
    "        self.cargo = cargo\n",
    "        self.left  = left\n",
    "        self.right = right\n",
    "\n",
    "    def __str__(self) :\n",
    "        return str(self.cargo)\n",
    "    \n",
    "    "
   ]
  },
  {
   "cell_type": "code",
   "execution_count": 14,
   "metadata": {},
   "outputs": [],
   "source": [
    "left = Tree(2)\n",
    "right = Tree(3)"
   ]
  },
  {
   "cell_type": "code",
   "execution_count": 15,
   "metadata": {},
   "outputs": [],
   "source": [
    "tree = Tree(1, left, right);"
   ]
  },
  {
   "cell_type": "code",
   "execution_count": 16,
   "metadata": {},
   "outputs": [
    {
     "data": {
      "text/plain": [
       "'1'"
      ]
     },
     "execution_count": 16,
     "metadata": {},
     "output_type": "execute_result"
    }
   ],
   "source": [
    "tree.__str__()"
   ]
  },
  {
   "cell_type": "code",
   "execution_count": 17,
   "metadata": {},
   "outputs": [],
   "source": [
    "tree = Tree(1, Tree(2), Tree(3))"
   ]
  },
  {
   "cell_type": "code",
   "execution_count": 18,
   "metadata": {},
   "outputs": [
    {
     "name": "stdout",
     "output_type": "stream",
     "text": [
      "1\n"
     ]
    }
   ],
   "source": [
    "print(tree)"
   ]
  },
  {
   "cell_type": "markdown",
   "metadata": {},
   "source": [
    "Percorrendo Árvores"
   ]
  },
  {
   "cell_type": "code",
   "execution_count": 12,
   "metadata": {},
   "outputs": [],
   "source": [
    "def total(tree) :\n",
    "        if tree == None : return 0\n",
    "        return total(tree.left) + total(tree.right) + tree.cargo"
   ]
  },
  {
   "cell_type": "code",
   "execution_count": 19,
   "metadata": {},
   "outputs": [
    {
     "data": {
      "text/plain": [
       "6"
      ]
     },
     "execution_count": 19,
     "metadata": {},
     "output_type": "execute_result"
    }
   ],
   "source": [
    "total(tree)"
   ]
  },
  {
   "cell_type": "markdown",
   "metadata": {},
   "source": [
    "Árvores de Expressoes"
   ]
  },
  {
   "cell_type": "code",
   "execution_count": 20,
   "metadata": {},
   "outputs": [],
   "source": [
    "tree1 = Tree('+', Tree(1), Tree('*', Tree(2), Tree(3)))"
   ]
  },
  {
   "cell_type": "markdown",
   "metadata": {},
   "source": [
    "Percurso de Árvores"
   ]
  },
  {
   "cell_type": "code",
   "execution_count": 34,
   "metadata": {},
   "outputs": [],
   "source": [
    "def printTree(tree):\n",
    "    if tree == None: return\n",
    "    print(tree.cargo, end = \" \")\n",
    "    printTree(tree.left)\n",
    "    printTree(tree.right)"
   ]
  },
  {
   "cell_type": "code",
   "execution_count": 35,
   "metadata": {},
   "outputs": [],
   "source": [
    "tree = Tree('+', Tree(1), Tree('*', Tree(2), Tree(3)))"
   ]
  },
  {
   "cell_type": "code",
   "execution_count": 36,
   "metadata": {},
   "outputs": [
    {
     "name": "stdout",
     "output_type": "stream",
     "text": [
      "+ 1 * 2 3 "
     ]
    }
   ],
   "source": [
    "printTree(tree)"
   ]
  },
  {
   "cell_type": "code",
   "execution_count": 39,
   "metadata": {},
   "outputs": [],
   "source": [
    "def printTreePostorder(tree):\n",
    "    if tree == None: return\n",
    "    printTreePostorder(tree.left)\n",
    "    printTreePostorder(tree.right)\n",
    "    print(tree.cargo, end = \" \")"
   ]
  },
  {
   "cell_type": "code",
   "execution_count": 40,
   "metadata": {},
   "outputs": [
    {
     "name": "stdout",
     "output_type": "stream",
     "text": [
      "1 2 3 * + "
     ]
    }
   ],
   "source": [
    "printTreePostorder(tree)"
   ]
  },
  {
   "cell_type": "code",
   "execution_count": 41,
   "metadata": {},
   "outputs": [],
   "source": [
    "def printTreeInorder(tree):\n",
    "    if tree == None: return\n",
    "    printTreeInorder(tree.left)\n",
    "    print(tree.cargo, end = \" \")\n",
    "    printTreeInorder(tree.right)"
   ]
  },
  {
   "cell_type": "code",
   "execution_count": 43,
   "metadata": {},
   "outputs": [
    {
     "name": "stdout",
     "output_type": "stream",
     "text": [
      "1 + 2 * 3 "
     ]
    }
   ],
   "source": [
    "printTreeInorder(tree)"
   ]
  },
  {
   "cell_type": "code",
   "execution_count": 44,
   "metadata": {},
   "outputs": [],
   "source": [
    "def printTreeIndented(tree, level = 0):\n",
    "    if tree == None: return\n",
    "    printTreeIndented(tree.right, level+1)\n",
    "    print(\" \"*level + str(tree.cargo))\n",
    "    printTreeIndented(tree.left, level+1)"
   ]
  },
  {
   "cell_type": "code",
   "execution_count": 45,
   "metadata": {},
   "outputs": [
    {
     "name": "stdout",
     "output_type": "stream",
     "text": [
      "  3\n",
      " *\n",
      "  2\n",
      "+\n",
      " 1\n"
     ]
    }
   ],
   "source": [
    "printTreeIndented(tree)"
   ]
  },
  {
   "cell_type": "markdown",
   "metadata": {},
   "source": [
    "Construindo uma árvore de expressão"
   ]
  },
  {
   "cell_type": "code",
   "execution_count": 46,
   "metadata": {},
   "outputs": [],
   "source": [
    "def getToken(tokenList, expected) :\n",
    "    if tokenList[0] == expected :\n",
    "        tokenList[0:1] = []   # remove the token\n",
    "        return 1\n",
    "    else :\n",
    "        return 0"
   ]
  },
  {
   "cell_type": "code",
   "execution_count": 47,
   "metadata": {},
   "outputs": [],
   "source": [
    "def getNumber(tokenList) :\n",
    "    x = tokenList[0]\n",
    "    if type(x) != type(0) : return None\n",
    "    del tokenList[0]\n",
    "    return Tree(x, None, None)"
   ]
  },
  {
   "cell_type": "code",
   "execution_count": 48,
   "metadata": {},
   "outputs": [],
   "source": [
    "tokenList = [9, 11, 'end']\n",
    "x = getNumber(tokenList)"
   ]
  },
  {
   "cell_type": "code",
   "execution_count": 49,
   "metadata": {},
   "outputs": [
    {
     "name": "stdout",
     "output_type": "stream",
     "text": [
      "9 "
     ]
    }
   ],
   "source": [
    "printTreePostorder(x)"
   ]
  },
  {
   "cell_type": "code",
   "execution_count": 50,
   "metadata": {},
   "outputs": [
    {
     "name": "stdout",
     "output_type": "stream",
     "text": [
      "[11, 'end']\n"
     ]
    }
   ],
   "source": [
    "print(tokenList)"
   ]
  },
  {
   "cell_type": "code",
   "execution_count": 51,
   "metadata": {},
   "outputs": [],
   "source": [
    "def getProduct(tokenList) :\n",
    "    a = getNumber(tokenList)\n",
    "    if getToken(tokenList, '*') :\n",
    "        b = getNumber(tokenList)\n",
    "        return Tree('*', a, b)\n",
    "    else :\n",
    "        return a"
   ]
  },
  {
   "cell_type": "code",
   "execution_count": 52,
   "metadata": {},
   "outputs": [
    {
     "name": "stdout",
     "output_type": "stream",
     "text": [
      "9 11 * "
     ]
    }
   ],
   "source": [
    "tokenList = [9, '*', 11, 'end']\n",
    "tree = getProduct(tokenList)\n",
    "printTreePostorder(tree)"
   ]
  },
  {
   "cell_type": "code",
   "execution_count": 53,
   "metadata": {},
   "outputs": [
    {
     "name": "stdout",
     "output_type": "stream",
     "text": [
      "9 "
     ]
    }
   ],
   "source": [
    "tokenList = [9, '+', 11, 'end']\n",
    "tree = getProduct(tokenList)\n",
    "printTreePostorder(tree)"
   ]
  },
  {
   "cell_type": "code",
   "execution_count": 54,
   "metadata": {},
   "outputs": [],
   "source": [
    "def getProduct(tokenList) :\n",
    "    a = getNumber(tokenList)\n",
    "    if getToken(tokenList, '*') :\n",
    "        b = getProduct(tokenList)       \n",
    "        return Tree('*', a, b)\n",
    "    else :\n",
    "        return a"
   ]
  },
  {
   "cell_type": "code",
   "execution_count": 55,
   "metadata": {},
   "outputs": [
    {
     "name": "stdout",
     "output_type": "stream",
     "text": [
      "2 3 5 7 * * * "
     ]
    }
   ],
   "source": [
    "tokenList = [2, '*', 3, '*', 5 , '*', 7, 'end']\n",
    "tree = getProduct(tokenList)\n",
    "printTreePostorder(tree)"
   ]
  },
  {
   "cell_type": "code",
   "execution_count": 57,
   "metadata": {},
   "outputs": [],
   "source": [
    "def getSum(tokenList) :\n",
    "    a = getProduct(tokenList)\n",
    "    if getToken(tokenList, '+') :\n",
    "        b = getSum(tokenList)\n",
    "        return Tree('+', a, b)\n",
    "    else:\n",
    "        return a"
   ]
  },
  {
   "cell_type": "code",
   "execution_count": 58,
   "metadata": {},
   "outputs": [
    {
     "name": "stdout",
     "output_type": "stream",
     "text": [
      "9 11 * 5 7 * + "
     ]
    }
   ],
   "source": [
    "tokenList = [9, '*', 11, '+', 5, '*', 7, 'end']\n",
    "tree = getSum(tokenList)\n",
    "printTreePostorder(tree)"
   ]
  },
  {
   "cell_type": "code",
   "execution_count": 59,
   "metadata": {},
   "outputs": [],
   "source": [
    "def getNumber(tokenList) :\n",
    "    if getToken(tokenList, '(') :\n",
    "        x = getSum(tokenList)      # get subexpression\n",
    "        getToken(tokenList, ')')    # eat the closing parenthesis\n",
    "        return x\n",
    "    else :\n",
    "        x = tokenList[0]\n",
    "        if type(x) != type(0) : return None\n",
    "        tokenList[0:1] = []   # remove the token\n",
    "        return Tree(x, None, None)    # return a leaf with the number"
   ]
  },
  {
   "cell_type": "code",
   "execution_count": 60,
   "metadata": {},
   "outputs": [
    {
     "name": "stdout",
     "output_type": "stream",
     "text": [
      "9 11 5 + 7 * * "
     ]
    }
   ],
   "source": [
    "tokenList = [9, '*', '(', 11, '+', 5, ')', '*', 7, 'end']\n",
    "tree = getSum(tokenList)\n",
    "printTreePostorder(tree)"
   ]
  },
  {
   "cell_type": "markdown",
   "metadata": {},
   "source": [
    "Manipulando erros"
   ]
  },
  {
   "cell_type": "code",
   "execution_count": 77,
   "metadata": {},
   "outputs": [
    {
     "ename": "IndentationError",
     "evalue": "expected an indented block (<ipython-input-77-152b7cd586d5>, line 5)",
     "output_type": "error",
     "traceback": [
      "\u001b[1;36m  File \u001b[1;32m\"<ipython-input-77-152b7cd586d5>\"\u001b[1;36m, line \u001b[1;32m5\u001b[0m\n\u001b[1;33m    raise ('BadExpressionError', 'missing parenthesis')\u001b[0m\n\u001b[1;37m    ^\u001b[0m\n\u001b[1;31mIndentationError\u001b[0m\u001b[1;31m:\u001b[0m expected an indented block\n"
     ]
    }
   ],
   "source": [
    "def getNumber(tokenList):\n",
    "    if getToken(tokenList, '('):\n",
    "        x = getSum(tokenList)\n",
    "        if not getToken(tokenList, ')'):\n",
    "    raise ('BadExpressionError', 'missing parenthesis') \n",
    "        return x\n",
    "    else:"
   ]
  },
  {
   "cell_type": "markdown",
   "metadata": {},
   "source": [
    "A árvore de animais"
   ]
  },
  {
   "cell_type": "code",
   "execution_count": 63,
   "metadata": {},
   "outputs": [
    {
     "ename": "IndentationError",
     "evalue": "expected an indented block (<ipython-input-63-dee640385be0>, line 13)",
     "output_type": "error",
     "traceback": [
      "\u001b[1;36m  File \u001b[1;32m\"<ipython-input-63-dee640385be0>\"\u001b[1;36m, line \u001b[1;32m13\u001b[0m\n\u001b[1;33m    prompt = tree.getCargo() + \"? \"\u001b[0m\n\u001b[1;37m    ^\u001b[0m\n\u001b[1;31mIndentationError\u001b[0m\u001b[1;31m:\u001b[0m expected an indented block\n"
     ]
    }
   ],
   "source": [
    "def animal() :\n",
    "    # start with a singleton\n",
    "    root = Tree(\"bird\")\n",
    "\n",
    "    # loop until the user quits\n",
    "    while 1 :\n",
    "        print()\n",
    "        if not yes(\"Are you thinking of an animal? \") : break\n",
    "\n",
    "     # walk the tree\n",
    "        tree = root\n",
    "        while tree.getLeft() != None :\n",
    "    prompt = tree.getCargo() + \"? \"\n",
    "    if yes(prompt):\n",
    "        tree = tree.getRight()\n",
    "    else:\n",
    "        tree = tree.getLeft()\n",
    "\n",
    "     # make a guess\n",
    "        guess = tree.getCargo()\n",
    "        prompt = \"Is it a \" + guess + \"? \"\n",
    "        if yes(prompt) :\n",
    "    print(\"I rule!\")\n",
    "    continue\n",
    "\n",
    "     # get new information\n",
    "        prompt  = \"What is the animal\\'s name? \"\n",
    "        animal  = raw_input(prompt)\n",
    "        prompt  = \"What question would distinguish a %s from a %s? \"\n",
    "        question = raw_input(prompt % (animal,guess))\n",
    "\n",
    "     # add new information to the tree\n",
    "        tree.setCargo(question)\n",
    "        prompt = \"If the animal were %s the answer would be? \"\n",
    "        if yes(prompt % animal) :\n",
    "    tree.setLeft(Tree(guess))\n",
    "    tree.setRight(Tree(animal))\n",
    "        else :\n",
    "    tree.setLeft(Tree(animal))\n",
    "    tree.setRight(Tree(guess))\n"
   ]
  },
  {
   "cell_type": "code",
   "execution_count": 64,
   "metadata": {},
   "outputs": [],
   "source": [
    "def yes(ques) :\n",
    "    from string import lower\n",
    "    ans = lower(raw_input(ques))\n",
    "    return (ans[0:1] == 'y')"
   ]
  },
  {
   "cell_type": "markdown",
   "metadata": {},
   "source": [
    "Árvores Binárias"
   ]
  },
  {
   "cell_type": "code",
   "execution_count": 65,
   "metadata": {},
   "outputs": [],
   "source": [
    "class NodoArvore:\n",
    "    def __init__(self, chave=None, esquerda=None, direita=None):\n",
    "        self.chave = chave\n",
    "        self.esquerda = esquerda\n",
    "        self.direita = direita\n",
    "\n",
    "    def __repr__(self):\n",
    "        return '%s <- %s -> %s' % (self.esquerda and self.esquerda.chave,  \n",
    "                                    self.chave, \n",
    "                                    self.direita and self.direita.chave)"
   ]
  },
  {
   "cell_type": "code",
   "execution_count": 66,
   "metadata": {},
   "outputs": [
    {
     "name": "stdout",
     "output_type": "stream",
     "text": [
      "Árvore:  5 <- 3 -> 1\n"
     ]
    }
   ],
   "source": [
    "raiz = NodoArvore(3)\n",
    "raiz.esquerda = NodoArvore(5)\n",
    "raiz.direita  = NodoArvore(1)\n",
    "print(\"Árvore: \", raiz)"
   ]
  },
  {
   "cell_type": "markdown",
   "metadata": {},
   "source": [
    "Caminhamentos em Árvore"
   ]
  },
  {
   "cell_type": "code",
   "execution_count": 67,
   "metadata": {},
   "outputs": [],
   "source": [
    "raiz = NodoArvore(40)"
   ]
  },
  {
   "cell_type": "code",
   "execution_count": 68,
   "metadata": {},
   "outputs": [],
   "source": [
    "raiz.esquerda = NodoArvore(20)\n",
    "raiz.direita  = NodoArvore(60)"
   ]
  },
  {
   "cell_type": "code",
   "execution_count": 69,
   "metadata": {},
   "outputs": [],
   "source": [
    "raiz.direita.esquerda  = NodoArvore(50)\n",
    "raiz.direita.direita   = NodoArvore(70)\n",
    "raiz.esquerda.esquerda = NodoArvore(10)\n",
    "raiz.esquerda.direita  = NodoArvore(30)"
   ]
  },
  {
   "cell_type": "code",
   "execution_count": 70,
   "metadata": {},
   "outputs": [],
   "source": [
    "def em_ordem(raiz): \n",
    "    if not raiz:\n",
    "        return\n",
    " \n",
    "    # Visita filho da esquerda.\n",
    "    em_ordem(raiz.esquerda)\n",
    "\n",
    "    # Visita nodo corrente.\n",
    "    print(raiz.chave),\n",
    " \n",
    "    # Visita filho da direita.\n",
    "    em_ordem(raiz.direita)"
   ]
  },
  {
   "cell_type": "code",
   "execution_count": 71,
   "metadata": {},
   "outputs": [
    {
     "name": "stdout",
     "output_type": "stream",
     "text": [
      "10\n",
      "20\n",
      "30\n",
      "40\n",
      "50\n",
      "60\n",
      "70\n"
     ]
    }
   ],
   "source": [
    "em_ordem(raiz)"
   ]
  },
  {
   "cell_type": "markdown",
   "metadata": {},
   "source": [
    "Inserção em Árvores Binárias de Pesquisa"
   ]
  },
  {
   "cell_type": "code",
   "execution_count": 72,
   "metadata": {},
   "outputs": [],
   "source": [
    "def insere(raiz, nodo):\n",
    "    \"\"\"Insere um nodo em uma árvore binária de pesquisa.\"\"\"\n",
    "    # Nodo deve ser inserido na raiz.\n",
    "    if raiz is None:\n",
    "        raiz = nodo\n",
    "\n",
    "    # Nodo deve ser inserido na subárvore direita.\n",
    "    elif raiz.chave < nodo.chave:\n",
    "        if raiz.direita is None:\n",
    "            raiz.direita = nodo\n",
    "        else:\n",
    "            insere(raiz.direita, nodo)\n",
    "\n",
    "    # Nodo deve ser inserido na subárvore esquerda.\n",
    "    else:\n",
    "        if raiz.esquerda is None:\n",
    "            raiz.esquerda = nodo\n",
    "        else:\n",
    "            insere(raiz.esquerda, nodo)"
   ]
  },
  {
   "cell_type": "code",
   "execution_count": 73,
   "metadata": {},
   "outputs": [
    {
     "name": "stdout",
     "output_type": "stream",
     "text": [
      "10\n",
      "20\n",
      "30\n",
      "40\n",
      "50\n",
      "60\n",
      "70\n"
     ]
    }
   ],
   "source": [
    "# Cria uma árvore binária de pesquisa.        \n",
    "raiz = NodoArvore(40)\n",
    "for chave in [20, 60, 50, 70, 10, 30]:\n",
    "    nodo = NodoArvore(chave)\n",
    "    insere(raiz, nodo)\n",
    "# Imprime o caminhamento em ordem da árvore.\n",
    "em_ordem(raiz)"
   ]
  },
  {
   "cell_type": "markdown",
   "metadata": {},
   "source": [
    "Busca em Árvores Binárias de Pesquisa"
   ]
  },
  {
   "cell_type": "code",
   "execution_count": 74,
   "metadata": {},
   "outputs": [],
   "source": [
    "def busca(raiz, chave):\n",
    "    \"\"\"Procura por uma chave em uma árvore binária de pesquisa.\"\"\"\n",
    "    # Trata o caso em que a chave procurada não está presente.\n",
    "    if raiz is None:\n",
    "        return None\n",
    "    \n",
    "    # A chave procurada está na raiz da árvore.\n",
    "    if raiz.chave == chave:\n",
    "        return raiz\n",
    " \n",
    "    # A chave procurada é maior que a da raiz.\n",
    "    if raiz.chave < chave:\n",
    "        return busca(raiz.direita, chave)\n",
    "   \n",
    "    # A chave procurada é menor que a da raiz.\n",
    "    return busca(raiz.esquerda, chave)"
   ]
  },
  {
   "cell_type": "code",
   "execution_count": 75,
   "metadata": {},
   "outputs": [],
   "source": [
    "# Cria uma árvore binária de pesquisa.        \n",
    "raiz = NodoArvore(40)\n",
    "for chave in [20, 60, 50, 70, 10, 30]:\n",
    "    nodo = NodoArvore(chave)\n",
    "    insere(raiz, nodo)"
   ]
  },
  {
   "cell_type": "code",
   "execution_count": 76,
   "metadata": {},
   "outputs": [
    {
     "name": "stdout",
     "output_type": "stream",
     "text": [
      "Busca pela chave -50: Falha!\n",
      "Busca pela chave 10: Sucesso!\n",
      "Busca pela chave 30: Sucesso!\n",
      "Busca pela chave 70: Sucesso!\n",
      "Busca pela chave 100: Falha!\n"
     ]
    }
   ],
   "source": [
    "# Procura por valores na árvore.\n",
    "for chave in [-50, 10, 30, 70, 100]:\n",
    "    resultado = busca(raiz, chave)\n",
    "    if resultado:\n",
    "        print(\"Busca pela chave {}: Sucesso!\".format(chave))\n",
    "    else:\n",
    "        print(\"Busca pela chave {}: Falha!\".format(chave))"
   ]
  },
  {
   "cell_type": "code",
   "execution_count": 78,
   "metadata": {},
   "outputs": [],
   "source": [
    "def minimo(raiz):\n",
    "    nodo = raiz\n",
    "    while nodo.esquerda is not None:\n",
    "        nodo = nodo.esquerda\n",
    "    return nodo.chave"
   ]
  },
  {
   "cell_type": "code",
   "execution_count": 79,
   "metadata": {},
   "outputs": [
    {
     "data": {
      "text/plain": [
       "10"
      ]
     },
     "execution_count": 79,
     "metadata": {},
     "output_type": "execute_result"
    }
   ],
   "source": [
    "minimo(raiz)"
   ]
  },
  {
   "cell_type": "code",
   "execution_count": 80,
   "metadata": {},
   "outputs": [],
   "source": [
    "def maximo(raiz):\n",
    "    nodo = raiz\n",
    "    while nodo.direita is not None:\n",
    "        nodo = nodo.direita\n",
    "    return nodo.chave"
   ]
  },
  {
   "cell_type": "code",
   "execution_count": 81,
   "metadata": {},
   "outputs": [
    {
     "data": {
      "text/plain": [
       "70"
      ]
     },
     "execution_count": 81,
     "metadata": {},
     "output_type": "execute_result"
    }
   ],
   "source": [
    "maximo(raiz)"
   ]
  },
  {
   "cell_type": "code",
   "execution_count": 82,
   "metadata": {},
   "outputs": [],
   "source": [
    "def identicas(a, b):     \n",
    "    # 1. As duas árvores são vazias.\n",
    "    if a is None and b is None:\n",
    "        return True\n",
    " \n",
    "    # 2. Nenhuma das árvores é vazia. Precisamos compará-las.\n",
    "    if a is not None and b is not None:\n",
    "        return ((a.chave == b.chave) and\n",
    "                identicas(a.esquerda, b.esquerda) and\n",
    "                identicas(a.direita, b.direita))\n",
    "     \n",
    "    # 3. Uma árvore é vazia mas a outra não.\n",
    "    return False"
   ]
  },
  {
   "cell_type": "code",
   "execution_count": 83,
   "metadata": {},
   "outputs": [
    {
     "data": {
      "text/plain": [
       "True"
      ]
     },
     "execution_count": 83,
     "metadata": {},
     "output_type": "execute_result"
    }
   ],
   "source": [
    "identicas(raiz,raiz)"
   ]
  },
  {
   "cell_type": "code",
   "execution_count": 84,
   "metadata": {},
   "outputs": [],
   "source": [
    "def altura(raiz):\n",
    "    if raiz is None:\n",
    "        return 0\n",
    "    return max(altura(raiz.esquerda), altura(raiz.direita)) + 1"
   ]
  },
  {
   "cell_type": "code",
   "execution_count": 85,
   "metadata": {},
   "outputs": [
    {
     "data": {
      "text/plain": [
       "3"
      ]
     },
     "execution_count": 85,
     "metadata": {},
     "output_type": "execute_result"
    }
   ],
   "source": [
    "altura(raiz)"
   ]
  },
  {
   "cell_type": "code",
   "execution_count": 86,
   "metadata": {},
   "outputs": [],
   "source": [
    "def balanceada(raiz):\n",
    "    # Uma árvore binária vazia é balanceada.\n",
    "    if raiz is None:\n",
    "        return True\n",
    "\n",
    "    altura_esq = altura(raiz.esquerda)\n",
    "    altura_dir = altura(raiz.direita)\n",
    "    # Alturas diferem em mais de uma unidade.\n",
    "    if abs(altura_esq - altura_dir) > 1:\n",
    "        return False\n",
    "    \n",
    "    return balanceada(raiz.esquerda) and balanceada(raiz.direita)"
   ]
  },
  {
   "cell_type": "code",
   "execution_count": 87,
   "metadata": {},
   "outputs": [
    {
     "data": {
      "text/plain": [
       "True"
      ]
     },
     "execution_count": 87,
     "metadata": {},
     "output_type": "execute_result"
    }
   ],
   "source": [
    "balanceada(raiz)"
   ]
  },
  {
   "cell_type": "code",
   "execution_count": 88,
   "metadata": {},
   "outputs": [],
   "source": [
    "def checa_simetrica(raiz):\n",
    "    def simetricas(subarvore_esq, subarvore_dir):\n",
    "        if not subarvore_esq and not subarvore_dir:\n",
    "            return True\n",
    "        elif subarvore_esq and subarvore_dir:\n",
    "            return (subarvore_esq.chave == subarvore_dir.chave and \n",
    "                    simetricas(subarvore_esq.esquerda, subarvore_dir.direita) and \n",
    "                    simetricas(subarvore_esq.direita, subarvore_dir.esquerda))\n",
    "        # Uma sub-árvore é vazia e a outra não.\n",
    "        return False\n",
    "\n",
    "    return not raiz or simetricas(raiz.esquerda, raiz.direita)"
   ]
  },
  {
   "cell_type": "code",
   "execution_count": 89,
   "metadata": {},
   "outputs": [
    {
     "data": {
      "text/plain": [
       "False"
      ]
     },
     "execution_count": 89,
     "metadata": {},
     "output_type": "execute_result"
    }
   ],
   "source": [
    "checa_simetrica(raiz)"
   ]
  },
  {
   "cell_type": "code",
   "execution_count": null,
   "metadata": {},
   "outputs": [],
   "source": []
  }
 ],
 "metadata": {
  "kernelspec": {
   "display_name": "Python 3",
   "language": "python",
   "name": "python3"
  },
  "language_info": {
   "codemirror_mode": {
    "name": "ipython",
    "version": 3
   },
   "file_extension": ".py",
   "mimetype": "text/x-python",
   "name": "python",
   "nbconvert_exporter": "python",
   "pygments_lexer": "ipython3",
   "version": "3.6.5"
  }
 },
 "nbformat": 4,
 "nbformat_minor": 2
}
