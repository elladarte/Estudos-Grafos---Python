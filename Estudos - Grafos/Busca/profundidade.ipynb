{
 "cells": [
  {
   "cell_type": "markdown",
   "metadata": {},
   "source": [
    "## Busca em Profundidade (Deph-first search ou DFS)"
   ]
  },
  {
   "cell_type": "markdown",
   "metadata": {},
   "source": [
    "Estrategia seguida pela busca em profundidade é buscar mais fundo no grafo sempre que possivel."
   ]
  },
  {
   "cell_type": "markdown",
   "metadata": {},
   "source": [
    "Importando Bibliotecas"
   ]
  },
  {
   "cell_type": "code",
   "execution_count": 1,
   "metadata": {},
   "outputs": [],
   "source": [
    "from collections import defaultdict"
   ]
  },
  {
   "cell_type": "markdown",
   "metadata": {},
   "source": [
    "Criando um grafo"
   ]
  },
  {
   "cell_type": "code",
   "execution_count": 2,
   "metadata": {},
   "outputs": [],
   "source": [
    "grafo = [ [1],        \n",
    "          [2, 3],      \n",
    "          [1, 4],     \n",
    "          [0],           \n",
    "          [1]            \n",
    "        ]"
   ]
  },
  {
   "cell_type": "markdown",
   "metadata": {},
   "source": [
    "Uma forma simples de implementar um busca de profundidade é criarmos uma função que realiza o precedimento repetidas vezes até que todos os vértices do grafo tenham sido marcados como visitados"
   ]
  },
  {
   "cell_type": "code",
   "execution_count": 3,
   "metadata": {},
   "outputs": [],
   "source": [
    "def dfs_recursiva(grafo, vertice, visitados):\n",
    "    visitados.add(vertice)\n",
    "    for vizinho in grafo[vertice]:\n",
    "        if vizinho not in visitados:\n",
    "            dfs_recursiva(grafo, vizinho, visitados)"
   ]
  },
  {
   "cell_type": "markdown",
   "metadata": {},
   "source": [
    "Função adicional para emcaspular o parametro vertice e assim torna a função mais elegante e generica"
   ]
  },
  {
   "cell_type": "code",
   "execution_count": 4,
   "metadata": {},
   "outputs": [],
   "source": [
    "def dfs(grafo, vertice):\n",
    "    visitados = set()\n",
    "    dfs_recursiva(grafo, vertice, visitados)"
   ]
  },
  {
   "cell_type": "code",
   "execution_count": 5,
   "metadata": {},
   "outputs": [],
   "source": [
    "def dfs(grafo, vertice):\n",
    "    visitados = set()\n",
    "\n",
    "    def dfs_recursiva(grafo, vertice):\n",
    "        visitados.add(vertice)\n",
    "        for vizinho in grafo[vertice]:\n",
    "            if vizinho not in visitados:\n",
    "                dfs_recursiva(grafo, vizinho)\n",
    "\n",
    "    dfs_recursiva(grafo, vertice)"
   ]
  },
  {
   "cell_type": "markdown",
   "metadata": {},
   "source": [
    "Invocando a busca"
   ]
  },
  {
   "cell_type": "code",
   "execution_count": 7,
   "metadata": {},
   "outputs": [],
   "source": [
    "dfs(grafo, 1)"
   ]
  },
  {
   "cell_type": "markdown",
   "metadata": {},
   "source": [
    "Realizando uma busca nas vertices que ainda nao foi visitado"
   ]
  },
  {
   "cell_type": "code",
   "execution_count": 15,
   "metadata": {},
   "outputs": [],
   "source": [
    "def dfs1(grafo):\n",
    "    def dfs_recursiva(grafo, vertice):\n",
    "        visitados.add(vertice)\n",
    "        for vizinho in grafo[vertice]:\n",
    "            if vizinho not in visitados:\n",
    "                dfs_recursiva(grafo, vizinho)\n",
    "\n",
    "    visitados = set()\n",
    "    for vertice in grafo:\n",
    "        if vertice not in visitados:\n",
    "            dfs_recursiva(grafo, vertice)"
   ]
  },
  {
   "cell_type": "markdown",
   "metadata": {},
   "source": [
    "Invocando a busca"
   ]
  },
  {
   "cell_type": "code",
   "execution_count": 16,
   "metadata": {},
   "outputs": [
    {
     "ename": "TypeError",
     "evalue": "unhashable type: 'list'",
     "output_type": "error",
     "traceback": [
      "\u001b[1;31m---------------------------------------------------------------------------\u001b[0m",
      "\u001b[1;31mTypeError\u001b[0m                                 Traceback (most recent call last)",
      "\u001b[1;32m<ipython-input-16-a43f126c9607>\u001b[0m in \u001b[0;36m<module>\u001b[1;34m()\u001b[0m\n\u001b[1;32m----> 1\u001b[1;33m \u001b[0mdfs1\u001b[0m\u001b[1;33m(\u001b[0m\u001b[0mgrafo\u001b[0m\u001b[1;33m)\u001b[0m\u001b[1;33m\u001b[0m\u001b[0m\n\u001b[0m",
      "\u001b[1;32m<ipython-input-15-1ba82c4d678a>\u001b[0m in \u001b[0;36mdfs1\u001b[1;34m(grafo)\u001b[0m\n\u001b[0;32m      8\u001b[0m     \u001b[0mvisitados\u001b[0m \u001b[1;33m=\u001b[0m \u001b[0mset\u001b[0m\u001b[1;33m(\u001b[0m\u001b[1;33m)\u001b[0m\u001b[1;33m\u001b[0m\u001b[0m\n\u001b[0;32m      9\u001b[0m     \u001b[1;32mfor\u001b[0m \u001b[0mvertice\u001b[0m \u001b[1;32min\u001b[0m \u001b[0mgrafo\u001b[0m\u001b[1;33m:\u001b[0m\u001b[1;33m\u001b[0m\u001b[0m\n\u001b[1;32m---> 10\u001b[1;33m         \u001b[1;32mif\u001b[0m \u001b[0mvertice\u001b[0m \u001b[1;32mnot\u001b[0m \u001b[1;32min\u001b[0m \u001b[0mvisitados\u001b[0m\u001b[1;33m:\u001b[0m\u001b[1;33m\u001b[0m\u001b[0m\n\u001b[0m\u001b[0;32m     11\u001b[0m             \u001b[0mdfs_recursiva\u001b[0m\u001b[1;33m(\u001b[0m\u001b[0mgrafo\u001b[0m\u001b[1;33m,\u001b[0m \u001b[0mvertice\u001b[0m\u001b[1;33m)\u001b[0m\u001b[1;33m\u001b[0m\u001b[0m\n",
      "\u001b[1;31mTypeError\u001b[0m: unhashable type: 'list'"
     ]
    }
   ],
   "source": [
    "dfs1(grafo)"
   ]
  },
  {
   "cell_type": "markdown",
   "metadata": {},
   "source": [
    "Para realizar a busca de forma iterativa"
   ]
  },
  {
   "cell_type": "code",
   "execution_count": 12,
   "metadata": {},
   "outputs": [],
   "source": [
    "def dfs_iterativa(grafo, vertice_fonte, visitados):\n",
    "    visitados.add(vertice_fonte)\n",
    "    falta_visitar = [vertice_fonte]\n",
    "    while falta_visitar:\n",
    "        vertice = falta_visitar.pop()\n",
    "        for vizinho in grafo[vertice]:\n",
    "            if vizinho not in visitados:\n",
    "                visitados.add(vizinho)\n",
    "                falta_visitar.append(vizinho)"
   ]
  },
  {
   "cell_type": "code",
   "execution_count": 13,
   "metadata": {},
   "outputs": [],
   "source": [
    "def dfs(grafo, vertice):\n",
    "    visitados = set()\n",
    "\n",
    "    def dfs_iterativa(grafo, vertice_fonte):\n",
    "        visitados.add(vertice_fonte)\n",
    "        falta_visitar = [vertice_fonte]\n",
    "        while falta_visitar:\n",
    "            vertice = falta_visitar.pop()\n",
    "            for vizinho in grafo[vertice]:\n",
    "                if vizinho not in visitados:\n",
    "                    visitados.add(vizinho)\n",
    "                    falta_visitar.append(vizinho)\n",
    "\n",
    "    dfs_iterativa(grafo, vertice)"
   ]
  },
  {
   "cell_type": "code",
   "execution_count": null,
   "metadata": {},
   "outputs": [],
   "source": []
  }
 ],
 "metadata": {
  "kernelspec": {
   "display_name": "Python 3",
   "language": "python",
   "name": "python3"
  },
  "language_info": {
   "codemirror_mode": {
    "name": "ipython",
    "version": 3
   },
   "file_extension": ".py",
   "mimetype": "text/x-python",
   "name": "python",
   "nbconvert_exporter": "python",
   "pygments_lexer": "ipython3",
   "version": "3.6.5"
  }
 },
 "nbformat": 4,
 "nbformat_minor": 2
}
